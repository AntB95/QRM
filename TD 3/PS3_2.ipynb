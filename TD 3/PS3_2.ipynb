{
 "cells": [
  {
   "cell_type": "code",
   "execution_count": 1,
   "metadata": {},
   "outputs": [],
   "source": [
    "import numpy as np\n",
    "import scipy.stats as stats\n",
    "import math\n",
    "import matplotlib.pyplot as plt\n",
    "import pandas as pd\n",
    "import random as random\n",
    "import scipy.stats as ss\n",
    "from datetime import datetime\n",
    "import wrds\n",
    "random.seed(420)"
   ]
  },
  {
   "cell_type": "markdown",
   "metadata": {},
   "source": [
    "# Question 1"
   ]
  },
  {
   "cell_type": "code",
   "execution_count": null,
   "metadata": {},
   "outputs": [],
   "source": [
    "#mdp:\n",
    "#goqhuB-1hafqe-dojvix\n",
    "db = wrds.Connection(wrds_username = 'antb95')"
   ]
  },
  {
   "cell_type": "code",
   "execution_count": null,
   "metadata": {},
   "outputs": [],
   "source": [
    "msft = db.raw_sql(\"select prc, date from crsp.dsf where permco in (8048.0) and date >='2011-03-10' and date <='2016-03-10'\")\n",
    "intc = db.raw_sql(\"select prc, date from crsp.dsf where permco in (2367.0) and date >='2011-03-10' and date <='2016-03-10'\")\n",
    "yhoo = db.raw_sql(\"select prc, date from crsp.dsf where permco in (14521.0) and date >='2011-03-10' and date <='2016-03-10'\")"
   ]
  },
  {
   "cell_type": "code",
   "execution_count": null,
   "metadata": {},
   "outputs": [],
   "source": [
    "msft['date'] = pd.to_datetime(msft['date'], format='%Y-%m-%d')\n",
    "intc['date'] = pd.to_datetime(intc['date'], format='%Y-%m-%d')\n",
    "yhoo['date'] = pd.to_datetime(yhoo['date'], format='%Y-%m-%d')"
   ]
  },
  {
   "cell_type": "code",
   "execution_count": null,
   "metadata": {},
   "outputs": [],
   "source": [
    "msft_r = np.log(msft['prc']) - np.log(msft['prc'].shift(1))\n",
    "intc_r = np.log(intc['prc']) - np.log(intc['prc'].shift(1))\n",
    "yhoo_r = np.log(yhoo['prc']) - np.log(yhoo['prc'].shift(1))\n",
    "\n",
    "df_stock = pd.DataFrame()\n",
    "df_stock['date'] = msft['date']\n",
    "df_stock['msft'] = msft['prc']\n",
    "df_stock['intc'] = intc['prc']\n",
    "df_stock['yhoo'] = yhoo['prc']\n",
    "\n",
    "df_return = pd.DataFrame()\n",
    "df_return['date'] = pd.to_datetime(msft['date'], format='%Y-%m-%d').copy()\n",
    "df_return['msft'] = msft_r\n",
    "df_return['intc'] = intc_r\n",
    "df_return['yhoo'] = yhoo_r\n",
    "df_return.dropna(inplace = True)"
   ]
  },
  {
   "cell_type": "code",
   "execution_count": null,
   "metadata": {},
   "outputs": [],
   "source": [
    "cov_matrix = df_return.set_index('date').rolling(502).cov().dropna()\n",
    "mean = df_return.set_index('date').rolling(502).mean().dropna()"
   ]
  },
  {
   "cell_type": "code",
   "execution_count": null,
   "metadata": {},
   "outputs": [],
   "source": [
    "#msft\n",
    "m = (intc[intc['date'] == '2013-03-11']['prc'].values[0]*100)/msft[msft['date'] == '2013-03-11']['prc'].values[0]\n",
    "#yahoo\n",
    "n = (intc[intc['date'] == '2013-03-11']['prc'].values[0]*100)/yhoo[yhoo['date'] == '2013-03-11']['prc'].values[0]\n",
    "#lambda\n",
    "lbda = np.array([m,100,n])"
   ]
  },
  {
   "cell_type": "code",
   "execution_count": null,
   "metadata": {},
   "outputs": [],
   "source": [
    "M = 100000\n",
    "VAR_95 = []\n",
    "VAR_99 = []\n",
    "date = cov_matrix.index.get_level_values('date').values\n",
    "for i in date :\n",
    "    temp_cov = cov_matrix.loc[i,:].values\n",
    "    temp_mean = mean.loc[i,:].values\n",
    "    rd_vec = np.random.multivariate_normal(temp_mean,temp_cov,M)\n",
    "    #mean var method\n",
    "    L = rd_vec * lbda * df_stock[df_stock['date'] == i][['msft','intc','yhoo']].values\n",
    "    L = -1*np.sum(L, axis = 1)\n",
    "    VAR_95 += [np.mean(L)+np.std(L)*ss.norm.ppf(0.95)]\n",
    "    VAR_99 += [np.mean(L)+np.std(L)*ss.norm.ppf(0.99)]"
   ]
  },
  {
   "cell_type": "code",
   "execution_count": null,
   "metadata": {},
   "outputs": [],
   "source": [
    "LOSS = []\n",
    "for i in date:\n",
    "    temp = (np.exp(df_return[df_return['date'] == i][['msft','intc','yhoo']].values)-1) * lbda * df_stock[df_stock['date'] == i][['msft','intc','yhoo']].values\n",
    "    temp = -1*np.sum(temp, axis = 1)\n",
    "    LOSS += [temp]"
   ]
  },
  {
   "cell_type": "code",
   "execution_count": null,
   "metadata": {},
   "outputs": [],
   "source": []
  },
  {
   "cell_type": "markdown",
   "metadata": {},
   "source": [
    "## Question 2.1"
   ]
  },
  {
   "cell_type": "code",
   "execution_count": 2,
   "metadata": {},
   "outputs": [
    {
     "name": "stdout",
     "output_type": "stream",
     "text": [
      "The VaR 0.95 of a geometric distribution with p = 0.5 is : 4.0\n"
     ]
    }
   ],
   "source": [
    "#We include -1 in the formula below because the geometric function of python does not allow 0 as support\n",
    "print('The VaR 0.95 of a geometric distribution with p = 0.5 is : ' + str(stats.geom.ppf(0.95,0.5)-1))"
   ]
  },
  {
   "cell_type": "code",
   "execution_count": 3,
   "metadata": {},
   "outputs": [],
   "source": [
    "alpha = np.arange(0.9,1,0.01)\n",
    "alpha1 = alpha + 0.0099\n",
    "alpha2 = alpha1 + 0.00001\n",
    "alpha = np.append(alpha,alpha1)\n",
    "alpha = np.append(alpha,alpha2)\n",
    "alpha = np.sort(alpha)\n",
    "alpha = alpha[:-1]"
   ]
  },
  {
   "cell_type": "code",
   "execution_count": 4,
   "metadata": {},
   "outputs": [],
   "source": [
    "df = pd.DataFrame(index = alpha , columns = ['VaR'])\n",
    "for i in range(len(alpha)):\n",
    "    if (i+1) % 3 != 0: \n",
    "        df.VaR[i] = stats.geom.ppf(np.trunc(alpha[i]*100)/100,0.5) - 1\n",
    "    else:\n",
    "        df.VaR[i] = stats.geom.ppf(round(alpha[i],2),0.5) - 1"
   ]
  },
  {
   "cell_type": "code",
   "execution_count": 5,
   "metadata": {},
   "outputs": [
    {
     "data": {
      "text/plain": [
       "Text(0, 0.5, 'VaR')"
      ]
     },
     "execution_count": 5,
     "metadata": {},
     "output_type": "execute_result"
    },
    {
     "data": {
      "image/png": "[encoded data removed]",
      "text/plain": [
       "<Figure size 720x360 with 1 Axes>"
      ]
     },
     "metadata": {
      "needs_background": "light"
     },
     "output_type": "display_data"
    }
   ],
   "source": [
    "plt.figure(figsize = (10,5))\n",
    "plt.plot(df)\n",
    "plt.xlabel('VaR quantile')\n",
    "plt.ylabel('VaR')"
   ]
  },
  {
   "cell_type": "markdown",
   "metadata": {},
   "source": [
    "## Question 2.2"
   ]
  },
  {
   "cell_type": "code",
   "execution_count": 6,
   "metadata": {},
   "outputs": [],
   "source": [
    "def Poisson(mu,k):\n",
    "    return np.exp(-mu)*np.power(mu, k)/ math.factorial(k)"
   ]
  },
  {
   "cell_type": "code",
   "execution_count": 7,
   "metadata": {},
   "outputs": [],
   "source": [
    "df2 = pd.DataFrame(index = alpha,columns = ['X' , 'Y' , 'L'])\n",
    "for i in range(len(alpha)):\n",
    "    if (i+1) % 3 != 0: \n",
    "        df2.at[alpha[i],'X'] = stats.poisson.ppf(np.trunc(alpha[i]*100)/100,1)\n",
    "        df2.at[alpha[i],'Y'] = stats.poisson.ppf(np.trunc(alpha[i]*100)/100,2)\n",
    "        df2.at[alpha[i],'L'] = stats.poisson.ppf(np.trunc(alpha[i]*100)/100,3)\n",
    "    else:\n",
    "        df2.at[alpha[i],'X'] = stats.poisson.ppf(round(alpha[i],2),1)\n",
    "        df2.at[alpha[i],'Y'] = stats.poisson.ppf(round(alpha[i],2),2)\n",
    "        df2.at[alpha[i],'L'] = stats.poisson.ppf(round(alpha[i],2),3)"
   ]
  },
  {
   "cell_type": "code",
   "execution_count": 8,
   "metadata": {
    "scrolled": true
   },
   "outputs": [
    {
     "data": {
      "text/plain": [
       "<matplotlib.legend.Legend at 0x124704d10>"
      ]
     },
     "execution_count": 8,
     "metadata": {},
     "output_type": "execute_result"
    },
    {
     "data": {
      "image/png": "[encoded data removed]",
      "text/plain": [
       "<Figure size 720x360 with 1 Axes>"
      ]
     },
     "metadata": {
      "needs_background": "light"
     },
     "output_type": "display_data"
    }
   ],
   "source": [
    "plt.figure(figsize = (10,5))\n",
    "plt.plot(alpha,df2.L,label = 'L : mu = 3')\n",
    "plt.plot(df2.X,label = 'X : mu = 1')\n",
    "plt.plot(df2.Y , label = 'Y : mu = 2')\n",
    "plt.xlabel('VaR quantile')\n",
    "plt.ylabel('VaR')\n",
    "plt.legend()"
   ]
  }
 ],
 "metadata": {
  "kernelspec": {
   "display_name": "Python 3",
   "language": "python",
   "name": "python3"
  },
  "language_info": {
   "codemirror_mode": {
    "name": "ipython",
    "version": 3
   },
   "file_extension": ".py",
   "mimetype": "text/x-python",
   "name": "python",
   "nbconvert_exporter": "python",
   "pygments_lexer": "ipython3",
   "version": "3.7.3"
  }
 },
 "nbformat": 4,
 "nbformat_minor": 2
}
