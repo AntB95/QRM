{
 "cells": [
  {
   "cell_type": "code",
   "execution_count": 1,
   "metadata": {},
   "outputs": [],
   "source": [
    "import numpy as np\n",
    "import scipy.stats as stats\n",
    "import math\n",
    "import matplotlib.pyplot as plt\n",
    "import pandas as pd"
   ]
  },
  {
   "cell_type": "markdown",
   "metadata": {},
   "source": [
    "## Question 2.1"
   ]
  },
  {
   "cell_type": "code",
   "execution_count": 4,
   "metadata": {},
   "outputs": [
    {
     "data": {
      "text/plain": [
       "5.0"
      ]
     },
     "execution_count": 4,
     "metadata": {},
     "output_type": "execute_result"
    }
   ],
   "source": [
    "stats.geom.ppf(0.95,0.5)"
   ]
  },
  {
   "cell_type": "code",
   "execution_count": 22,
   "metadata": {},
   "outputs": [
    {
     "data": {
      "text/plain": [
       "array([0.9    , 0.9099 , 0.90991, 0.91   , 0.9199 , 0.91991, 0.92   ,\n",
       "       0.9299 , 0.92991, 0.93   , 0.9399 , 0.93991, 0.94   , 0.9499 ,\n",
       "       0.94991, 0.95   , 0.9599 , 0.95991, 0.96   , 0.9699 , 0.96991,\n",
       "       0.97   , 0.9799 , 0.97991, 0.98   , 0.9899 , 0.98991, 0.99   ,\n",
       "       0.9999 , 0.99991])"
      ]
     },
     "execution_count": 22,
     "metadata": {},
     "output_type": "execute_result"
    }
   ],
   "source": [
    "alpha = np.arange(0.9,1,0.01)\n",
    "alpha1 = alpha + 0.0099\n",
    "alpha2 = alpha1 + 0.00001\n",
    "alpha = np.append(alpha,alpha1)\n",
    "alpha = np.append(alpha,alpha2)\n",
    "alpha = np.sort(alpha)"
   ]
  },
  {
   "cell_type": "code",
   "execution_count": 31,
   "metadata": {},
   "outputs": [],
   "source": [
    "df = pd.DataFrame(index = alpha , columns = ['VaR'])\n",
    "for i in range(len(alpha)):\n",
    "    if (i+1) % 3 != 0: \n",
    "        df.VaR[i] = stats.geom.ppf(np.trunc(alpha[i]*100)/100,0.5)"
   ]
  },
  {
   "cell_type": "code",
   "execution_count": 35,
   "metadata": {},
   "outputs": [
    {
     "data": {
      "text/plain": [
       "Text(0, 0.5, 'VaR')"
      ]
     },
     "execution_count": 35,
     "metadata": {},
     "output_type": "execute_result"
    },
    {
     "data": {
      "image/png": "[encoded data removed]",
      "text/plain": [
       "<Figure size 720x360 with 1 Axes>"
      ]
     },
     "metadata": {
      "needs_background": "light"
     },
     "output_type": "display_data"
    }
   ],
   "source": [
    "plt.figure(figsize = (10,5))\n",
    "plt.plot(df)\n",
    "plt.xlabel('VaR quantile')\n",
    "plt.ylabel('VaR')"
   ]
  },
  {
   "cell_type": "markdown",
   "metadata": {},
   "source": [
    "## Question 2.2"
   ]
  },
  {
   "cell_type": "code",
   "execution_count": 60,
   "metadata": {},
   "outputs": [],
   "source": [
    "def Poisson(mu,k):\n",
    "    return np.exp(-mu)*np.power(mu, k)/ math.factorial(k)"
   ]
  },
  {
   "cell_type": "code",
   "execution_count": 61,
   "metadata": {},
   "outputs": [],
   "source": [
    "df2 = pd.DataFrame(index = alpha,columns = ['X' , 'Y' , 'L'])\n",
    "for i in range(len(alpha)):\n",
    "    if (i+1) % 3 != 0: \n",
    "        df2.at[alpha[i],'X'] = stats.poisson.ppf(np.trunc(alpha[i]*100)/100,1)\n",
    "        df2.at[alpha[i],'Y'] = stats.poisson.ppf(np.trunc(alpha[i]*100)/100,2)\n"
   ]
  },
  {
   "cell_type": "code",
   "execution_count": 62,
   "metadata": {},
   "outputs": [],
   "source": [
    "n = 10**5\n",
    "X = np.random.poisson(1,n)\n",
    "Y = np.random.poisson(2,n)\n",
    "L = X + Y\n",
    "L = np.sort(L)\n",
    "for i in range(len(alpha)):\n",
    "    if (i+1) % 3 != 0: \n",
    "        df2.at[alpha[i],'L'] = L[int(n * np.trunc(alpha[i]*100)/100)]"
   ]
  },
  {
   "cell_type": "code",
   "execution_count": 63,
   "metadata": {
    "scrolled": true
   },
   "outputs": [
    {
     "data": {
      "text/plain": [
       "<matplotlib.legend.Legend at 0x1297b7990>"
      ]
     },
     "execution_count": 63,
     "metadata": {},
     "output_type": "execute_result"
    },
    {
     "data": {
      "image/png": "[encoded data removed]",
      "text/plain": [
       "<Figure size 720x360 with 1 Axes>"
      ]
     },
     "metadata": {
      "needs_background": "light"
     },
     "output_type": "display_data"
    }
   ],
   "source": [
    "plt.figure(figsize = (10,5))\n",
    "plt.plot(alpha,df2.L,label = 'L = X + Y')\n",
    "plt.plot(df2.X,label = 'X : mu = 1')\n",
    "plt.plot(df2.Y , label = 'Y : mu = 2')\n",
    "plt.xlabel('VaR quantile')\n",
    "plt.ylabel('VaR')\n",
    "plt.legend()"
   ]
  }
 ],
 "metadata": {
  "kernelspec": {
   "display_name": "Python 3",
   "language": "python",
   "name": "python3"
  },
  "language_info": {
   "codemirror_mode": {
    "name": "ipython",
    "version": 3
   },
   "file_extension": ".py",
   "mimetype": "text/x-python",
   "name": "python",
   "nbconvert_exporter": "python",
   "pygments_lexer": "ipython3",
   "version": "3.7.4"
  }
 },
 "nbformat": 4,
 "nbformat_minor": 2
}
