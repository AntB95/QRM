{
 "cells": [
  {
   "cell_type": "code",
   "execution_count": 1,
   "metadata": {},
   "outputs": [],
   "source": [
    "from matplotlib import pyplot as plt\n",
    "import numpy as np \n",
    "import pandas as pd\n",
    "import yfinance as yf\n",
    "from datetime import datetime as dt\n",
    "from scipy.optimize import minimize, Bounds\n",
    "import warnings\n",
    "warnings.filterwarnings('ignore')"
   ]
  },
  {
   "cell_type": "code",
   "execution_count": 2,
   "metadata": {},
   "outputs": [],
   "source": [
    "def period(df,start,end):\n",
    "    start = dt.strptime(start, '%d-%m-%Y')\n",
    "    end = dt.strptime(end, '%d-%m-%Y')\n",
    "    mask = (df.index >= start) & (df.index <= end)\n",
    "    return df.loc[mask]\n"
   ]
  },
  {
   "cell_type": "code",
   "execution_count": 3,
   "metadata": {},
   "outputs": [],
   "source": [
    "#import data for Microsoft\n",
    "ticker = \"MSFT\"\n",
    "df = yf.Ticker(ticker)\n",
    "price = df.history(period=\"max\")['Close']\n",
    "returns = -np.log(price).diff()\n",
    "returns.dropna(inplace=True)"
   ]
  },
  {
   "cell_type": "code",
   "execution_count": 4,
   "metadata": {},
   "outputs": [],
   "source": [
    "start = \"26-11-2011\"\n",
    "end = \"26-11-2016\"\n",
    "\n",
    "returns =  period(returns,start,end)"
   ]
  },
  {
   "cell_type": "code",
   "execution_count": 5,
   "metadata": {},
   "outputs": [],
   "source": [
    "def e(v): return sum((np.maximum(list(returns-v),[0]*len(returns))))/sum(returns>v) "
   ]
  },
  {
   "cell_type": "code",
   "execution_count": 6,
   "metadata": {},
   "outputs": [
    {
     "data": {
      "image/png": "[encoded data removed]",
      "text/plain": [
       "<Figure size 432x288 with 1 Axes>"
      ]
     },
     "metadata": {
      "needs_background": "light"
     },
     "output_type": "display_data"
    }
   ],
   "source": [
    "res = returns[(returns > 0) & (returns < 0.04)]\n",
    "plt.plot(res,[e(r) for r in res],'.')\n",
    "plt.grid()\n",
    "plt.xlabel('Threshold')\n",
    "plt.ylabel('Mean Excess')\n",
    "plt.show()"
   ]
  },
  {
   "cell_type": "code",
   "execution_count": 7,
   "metadata": {},
   "outputs": [],
   "source": [
    "def l(X,u,returns):\n",
    "    eps = X[0]\n",
    "    beta = X[1]\n",
    "    xi = (returns - u)\n",
    "    xi = xi[xi > 0]\n",
    "    return -sum(np.log((1+eps*xi/beta)**(-1-1/eps)/beta))"
   ]
  },
  {
   "cell_type": "code",
   "execution_count": 8,
   "metadata": {},
   "outputs": [
    {
     "name": "stdout",
     "output_type": "stream",
     "text": [
      "The estimates are:  [0.21886311 0.00735514]\n"
     ]
    }
   ],
   "source": [
    "u = 0.01\n",
    "X0 = [0.1,0.001]\n",
    "bound = Bounds([1e-12,1e-12], [np.inf,np.inf], keep_feasible=True)\n",
    "result = minimize(l,x0 = X0,args = (u,returns),bounds = bound)\n",
    "print('The estimates are: ',result.x)"
   ]
  },
  {
   "cell_type": "code",
   "execution_count": null,
   "metadata": {},
   "outputs": [],
   "source": []
  }
 ],
 "metadata": {
  "kernelspec": {
   "display_name": "Python 3",
   "language": "python",
   "name": "python3"
  },
  "language_info": {
   "codemirror_mode": {
    "name": "ipython",
    "version": 3
   },
   "file_extension": ".py",
   "mimetype": "text/x-python",
   "name": "python",
   "nbconvert_exporter": "python",
   "pygments_lexer": "ipython3",
   "version": "3.7.3"
  }
 },
 "nbformat": 4,
 "nbformat_minor": 2
}
