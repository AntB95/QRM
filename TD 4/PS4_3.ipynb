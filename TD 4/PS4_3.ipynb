{
 "cells": [
  {
   "cell_type": "code",
   "execution_count": 1,
   "metadata": {},
   "outputs": [],
   "source": [
    "import numpy as np\n",
    "import pandas as pd\n",
    "import matplotlib.pyplot as plt\n",
    "import scipy.stats as stats\n",
    "import wrds\n",
    "import datetime\n",
    "import statsmodels.api as sm"
   ]
  },
  {
   "cell_type": "code",
   "execution_count": 2,
   "metadata": {},
   "outputs": [
    {
     "name": "stdout",
     "output_type": "stream",
     "text": [
      "Enter your WRDS username [max]:antb95\n",
      "Enter your password:········\n",
      "WRDS recommends setting up a .pgpass file.\n",
      "You can find more info here:\n",
      "https://www.postgresql.org/docs/9.5/static/libpq-pgpass.html.\n",
      "Loading library list...\n",
      "Done\n"
     ]
    }
   ],
   "source": [
    "db = wrds.Connection() \n",
    "#goqhuB-1hafqe-dojvix"
   ]
  },
  {
   "cell_type": "code",
   "execution_count": 3,
   "metadata": {},
   "outputs": [],
   "source": [
    "sp = db.get_table(library = 'crsp' , table = 'dsp500p')\n",
    "start = np.where(sp.caldt >= datetime.date(2011,3,17))[0][0]\n",
    "end = np.where(sp.caldt >= datetime.date(2016,3,17))[0][0]\n",
    "sp = sp.loc[start:end,['caldt','spindx']]"
   ]
  },
  {
   "cell_type": "code",
   "execution_count": 4,
   "metadata": {},
   "outputs": [],
   "source": [
    "names = db.get_table(library='crsp', table='stocknames')\n",
    "names =names.loc[:,['permco' , 'ticker']]"
   ]
  },
  {
   "cell_type": "code",
   "execution_count": 5,
   "metadata": {},
   "outputs": [],
   "source": [
    "Ticker = ['IBM','MCD','MMM','WMT']\n",
    "Permco = np.zeros(len(Ticker))\n",
    "for i in range(len(Ticker)):\n",
    "    inter = names['permco'].where(names['ticker'] == Ticker[i])\n",
    "    inter.dropna(inplace = True)\n",
    "    Permco[i] = inter.iloc[1]"
   ]
  },
  {
   "cell_type": "code",
   "execution_count": 6,
   "metadata": {},
   "outputs": [],
   "source": [
    "df = pd.DataFrame(index = np.arange(0,len(sp)),columns = ['Date' , 'SPX'] + Ticker)"
   ]
  },
  {
   "cell_type": "code",
   "execution_count": 7,
   "metadata": {},
   "outputs": [],
   "source": [
    "df.Date = np.array(sp.caldt)\n",
    "df.SPX = np.array(sp.spindx)\n",
    "for i in range(len(Ticker)):\n",
    "    inter = db.raw_sql(\"select prc, date from crsp.dsf where permco in (\"+str(Permco[i])+\") and date >='2011-03-17' and date <='2016-03-16'\")\n",
    "    df[Ticker[i]] = inter.prc"
   ]
  },
  {
   "cell_type": "code",
   "execution_count": 8,
   "metadata": {},
   "outputs": [],
   "source": [
    "df.loc[:,df.columns != 'Date'] = np.log(df.loc[:,df.columns != 'Date']) - np.log(df.loc[:,df.columns != 'Date']).shift(1)\n",
    "df.dropna(inplace = True)"
   ]
  },
  {
   "cell_type": "code",
   "execution_count": 9,
   "metadata": {
    "scrolled": true
   },
   "outputs": [
    {
     "name": "stdout",
     "output_type": "stream",
     "text": [
      "                            OLS Regression Results                            \n",
      "==============================================================================\n",
      "Dep. Variable:                    IBM   R-squared:                       0.420\n",
      "Model:                            OLS   Adj. R-squared:                  0.419\n",
      "Method:                 Least Squares   F-statistic:                     908.1\n",
      "Date:                Mon, 21 Oct 2019   Prob (F-statistic):          1.50e-150\n",
      "Time:                        22:39:57   Log-Likelihood:                 4072.4\n",
      "No. Observations:                1257   AIC:                            -8141.\n",
      "Df Residuals:                    1255   BIC:                            -8131.\n",
      "Df Model:                           1                                         \n",
      "Covariance Type:            nonrobust                                         \n",
      "==============================================================================\n",
      "                 coef    std err          t      P>|t|      [0.025      0.975]\n",
      "------------------------------------------------------------------------------\n",
      "Ones          -0.0004      0.000     -1.308      0.191      -0.001       0.000\n",
      "SPX            0.8123      0.027     30.135      0.000       0.759       0.865\n",
      "==============================================================================\n",
      "Omnibus:                      741.765   Durbin-Watson:                   1.785\n",
      "Prob(Omnibus):                  0.000   Jarque-Bera (JB):            22311.861\n",
      "Skew:                          -2.188   Prob(JB):                         0.00\n",
      "Kurtosis:                      23.171   Cond. No.                         101.\n",
      "==============================================================================\n",
      "\n",
      "Warnings:\n",
      "[1] Standard Errors assume that the covariance matrix of the errors is correctly specified.\n",
      "                            OLS Regression Results                            \n",
      "==============================================================================\n",
      "Dep. Variable:                    MCD   R-squared:                       0.358\n",
      "Model:                            OLS   Adj. R-squared:                  0.357\n",
      "Method:                 Least Squares   F-statistic:                     699.1\n",
      "Date:                Mon, 21 Oct 2019   Prob (F-statistic):          7.99e-123\n",
      "Time:                        22:39:57   Log-Likelihood:                 4323.9\n",
      "No. Observations:                1257   AIC:                            -8644.\n",
      "Df Residuals:                    1255   BIC:                            -8633.\n",
      "Df Model:                           1                                         \n",
      "Covariance Type:            nonrobust                                         \n",
      "==============================================================================\n",
      "                 coef    std err          t      P>|t|      [0.025      0.975]\n",
      "------------------------------------------------------------------------------\n",
      "Ones           0.0002      0.000      0.905      0.366      -0.000       0.001\n",
      "SPX            0.5835      0.022     26.441      0.000       0.540       0.627\n",
      "==============================================================================\n",
      "Omnibus:                      251.111   Durbin-Watson:                   2.007\n",
      "Prob(Omnibus):                  0.000   Jarque-Bera (JB):             3511.191\n",
      "Skew:                           0.497   Prob(JB):                         0.00\n",
      "Kurtosis:                      11.127   Cond. No.                         101.\n",
      "==============================================================================\n",
      "\n",
      "Warnings:\n",
      "[1] Standard Errors assume that the covariance matrix of the errors is correctly specified.\n",
      "                            OLS Regression Results                            \n",
      "==============================================================================\n",
      "Dep. Variable:                    MMM   R-squared:                       0.663\n",
      "Model:                            OLS   Adj. R-squared:                  0.663\n",
      "Method:                 Least Squares   F-statistic:                     2467.\n",
      "Date:                Mon, 21 Oct 2019   Prob (F-statistic):          1.51e-298\n",
      "Time:                        22:39:57   Log-Likelihood:                 4467.5\n",
      "No. Observations:                1257   AIC:                            -8931.\n",
      "Df Residuals:                    1255   BIC:                            -8921.\n",
      "Df Model:                           1                                         \n",
      "Covariance Type:            nonrobust                                         \n",
      "==============================================================================\n",
      "                 coef    std err          t      P>|t|      [0.025      0.975]\n",
      "------------------------------------------------------------------------------\n",
      "Ones           0.0001      0.000      0.625      0.532      -0.000       0.001\n",
      "SPX            0.9778      0.020     49.669      0.000       0.939       1.016\n",
      "==============================================================================\n",
      "Omnibus:                      565.664   Durbin-Watson:                   2.047\n",
      "Prob(Omnibus):                  0.000   Jarque-Bera (JB):            15232.024\n",
      "Skew:                          -1.498   Prob(JB):                         0.00\n",
      "Kurtosis:                      19.788   Cond. No.                         101.\n",
      "==============================================================================\n",
      "\n",
      "Warnings:\n",
      "[1] Standard Errors assume that the covariance matrix of the errors is correctly specified.\n",
      "                            OLS Regression Results                            \n",
      "==============================================================================\n",
      "Dep. Variable:                    WMT   R-squared:                       0.248\n",
      "Model:                            OLS   Adj. R-squared:                  0.247\n",
      "Method:                 Least Squares   F-statistic:                     412.8\n",
      "Date:                Mon, 21 Oct 2019   Prob (F-statistic):           1.43e-79\n",
      "Time:                        22:39:57   Log-Likelihood:                 4130.8\n",
      "No. Observations:                1257   AIC:                            -8258.\n",
      "Df Residuals:                    1255   BIC:                            -8247.\n",
      "Df Model:                           1                                         \n",
      "Covariance Type:            nonrobust                                         \n",
      "==============================================================================\n",
      "                 coef    std err          t      P>|t|      [0.025      0.975]\n",
      "------------------------------------------------------------------------------\n",
      "Ones        2.969e-05      0.000      0.116      0.908      -0.000       0.001\n",
      "SPX            0.5229      0.026     20.318      0.000       0.472       0.573\n",
      "==============================================================================\n",
      "Omnibus:                      504.556   Durbin-Watson:                   1.898\n",
      "Prob(Omnibus):                  0.000   Jarque-Bera (JB):            15042.822\n",
      "Skew:                          -1.234   Prob(JB):                         0.00\n",
      "Kurtosis:                      19.767   Cond. No.                         101.\n",
      "==============================================================================\n",
      "\n",
      "Warnings:\n",
      "[1] Standard Errors assume that the covariance matrix of the errors is correctly specified.\n"
     ]
    },
    {
     "data": {
      "text/html": [
       "<div>\n",
       "<style scoped>\n",
       "    .dataframe tbody tr th:only-of-type {\n",
       "        vertical-align: middle;\n",
       "    }\n",
       "\n",
       "    .dataframe tbody tr th {\n",
       "        vertical-align: top;\n",
       "    }\n",
       "\n",
       "    .dataframe thead th {\n",
       "        text-align: right;\n",
       "    }\n",
       "</style>\n",
       "<table border=\"1\" class=\"dataframe\">\n",
       "  <thead>\n",
       "    <tr style=\"text-align: right;\">\n",
       "      <th></th>\n",
       "      <th>IBM</th>\n",
       "      <th>MCD</th>\n",
       "      <th>MMM</th>\n",
       "      <th>WMT</th>\n",
       "    </tr>\n",
       "  </thead>\n",
       "  <tbody>\n",
       "    <tr>\n",
       "      <td>a</td>\n",
       "      <td>-0.000350</td>\n",
       "      <td>0.000198</td>\n",
       "      <td>0.000122</td>\n",
       "      <td>0.000030</td>\n",
       "    </tr>\n",
       "    <tr>\n",
       "      <td>Beta</td>\n",
       "      <td>0.812348</td>\n",
       "      <td>0.583537</td>\n",
       "      <td>0.977800</td>\n",
       "      <td>0.522851</td>\n",
       "    </tr>\n",
       "  </tbody>\n",
       "</table>\n",
       "</div>"
      ],
      "text/plain": [
       "           IBM       MCD       MMM       WMT\n",
       "a    -0.000350  0.000198  0.000122  0.000030\n",
       "Beta  0.812348  0.583537  0.977800  0.522851"
      ]
     },
     "execution_count": 9,
     "metadata": {},
     "output_type": "execute_result"
    }
   ],
   "source": [
    "X = pd.DataFrame({'Ones' : [1] * len(df), 'SPX' : np.array(df.SPX)},index = np.arange(1,len(df)+1,1))\n",
    "Beta = pd.DataFrame(columns = Ticker,index = ['a' , 'Beta'])\n",
    "Eps = pd.DataFrame(columns = Ticker, index = df.index)\n",
    "for i in range(len(Ticker)):\n",
    "    Y = df[Ticker[i]]\n",
    "    model = sm.OLS(Y,X).fit()\n",
    "    Beta.at[:,Ticker[i]] = model.params.to_list()\n",
    "    Eps.at[:,Ticker[i]] = Y - np.matmul(np.array(X),np.array(Beta[Ticker[i]]))\n",
    "    print(model.summary())"
   ]
  },
  {
   "cell_type": "code",
   "execution_count": 10,
   "metadata": {},
   "outputs": [
    {
     "data": {
      "text/html": [
       "<div>\n",
       "<style scoped>\n",
       "    .dataframe tbody tr th:only-of-type {\n",
       "        vertical-align: middle;\n",
       "    }\n",
       "\n",
       "    .dataframe tbody tr th {\n",
       "        vertical-align: top;\n",
       "    }\n",
       "\n",
       "    .dataframe thead th {\n",
       "        text-align: right;\n",
       "    }\n",
       "</style>\n",
       "<table border=\"1\" class=\"dataframe\">\n",
       "  <thead>\n",
       "    <tr style=\"text-align: right;\">\n",
       "      <th></th>\n",
       "      <th>IBM</th>\n",
       "      <th>MCD</th>\n",
       "      <th>MMM</th>\n",
       "      <th>WMT</th>\n",
       "    </tr>\n",
       "  </thead>\n",
       "  <tbody>\n",
       "    <tr>\n",
       "      <td>a</td>\n",
       "      <td>-0.000350</td>\n",
       "      <td>0.000198</td>\n",
       "      <td>0.000122</td>\n",
       "      <td>0.000030</td>\n",
       "    </tr>\n",
       "    <tr>\n",
       "      <td>Beta</td>\n",
       "      <td>0.812348</td>\n",
       "      <td>0.583537</td>\n",
       "      <td>0.977800</td>\n",
       "      <td>0.522851</td>\n",
       "    </tr>\n",
       "  </tbody>\n",
       "</table>\n",
       "</div>"
      ],
      "text/plain": [
       "           IBM       MCD       MMM       WMT\n",
       "a    -0.000350  0.000198  0.000122  0.000030\n",
       "Beta  0.812348  0.583537  0.977800  0.522851"
      ]
     },
     "execution_count": 10,
     "metadata": {},
     "output_type": "execute_result"
    }
   ],
   "source": [
    "Beta"
   ]
  },
  {
   "cell_type": "code",
   "execution_count": 11,
   "metadata": {},
   "outputs": [
    {
     "data": {
      "text/html": [
       "<div>\n",
       "<style scoped>\n",
       "    .dataframe tbody tr th:only-of-type {\n",
       "        vertical-align: middle;\n",
       "    }\n",
       "\n",
       "    .dataframe tbody tr th {\n",
       "        vertical-align: top;\n",
       "    }\n",
       "\n",
       "    .dataframe thead th {\n",
       "        text-align: right;\n",
       "    }\n",
       "</style>\n",
       "<table border=\"1\" class=\"dataframe\">\n",
       "  <thead>\n",
       "    <tr style=\"text-align: right;\">\n",
       "      <th></th>\n",
       "      <th>IBM</th>\n",
       "      <th>MCD</th>\n",
       "      <th>MMM</th>\n",
       "      <th>WMT</th>\n",
       "    </tr>\n",
       "  </thead>\n",
       "  <tbody>\n",
       "    <tr>\n",
       "      <td>IBM</td>\n",
       "      <td>1.000000</td>\n",
       "      <td>0.063572</td>\n",
       "      <td>0.001717</td>\n",
       "      <td>-0.002494</td>\n",
       "    </tr>\n",
       "    <tr>\n",
       "      <td>MCD</td>\n",
       "      <td>0.063572</td>\n",
       "      <td>1.000000</td>\n",
       "      <td>0.023304</td>\n",
       "      <td>0.121076</td>\n",
       "    </tr>\n",
       "    <tr>\n",
       "      <td>MMM</td>\n",
       "      <td>0.001717</td>\n",
       "      <td>0.023304</td>\n",
       "      <td>1.000000</td>\n",
       "      <td>0.029484</td>\n",
       "    </tr>\n",
       "    <tr>\n",
       "      <td>WMT</td>\n",
       "      <td>-0.002494</td>\n",
       "      <td>0.121076</td>\n",
       "      <td>0.029484</td>\n",
       "      <td>1.000000</td>\n",
       "    </tr>\n",
       "  </tbody>\n",
       "</table>\n",
       "</div>"
      ],
      "text/plain": [
       "          IBM       MCD       MMM       WMT\n",
       "IBM  1.000000  0.063572  0.001717 -0.002494\n",
       "MCD  0.063572  1.000000  0.023304  0.121076\n",
       "MMM  0.001717  0.023304  1.000000  0.029484\n",
       "WMT -0.002494  0.121076  0.029484  1.000000"
      ]
     },
     "execution_count": 11,
     "metadata": {},
     "output_type": "execute_result"
    }
   ],
   "source": [
    "Eps.corr()"
   ]
  },
  {
   "cell_type": "code",
   "execution_count": 12,
   "metadata": {},
   "outputs": [
    {
     "data": {
      "text/html": [
       "<div>\n",
       "<style scoped>\n",
       "    .dataframe tbody tr th:only-of-type {\n",
       "        vertical-align: middle;\n",
       "    }\n",
       "\n",
       "    .dataframe tbody tr th {\n",
       "        vertical-align: top;\n",
       "    }\n",
       "\n",
       "    .dataframe thead th {\n",
       "        text-align: right;\n",
       "    }\n",
       "</style>\n",
       "<table border=\"1\" class=\"dataframe\">\n",
       "  <thead>\n",
       "    <tr style=\"text-align: right;\">\n",
       "      <th></th>\n",
       "      <th>IBM</th>\n",
       "      <th>MCD</th>\n",
       "      <th>MMM</th>\n",
       "      <th>WMT</th>\n",
       "    </tr>\n",
       "  </thead>\n",
       "  <tbody>\n",
       "    <tr>\n",
       "      <td>IBM</td>\n",
       "      <td>1.000000</td>\n",
       "      <td>0.426359</td>\n",
       "      <td>0.528267</td>\n",
       "      <td>0.320711</td>\n",
       "    </tr>\n",
       "    <tr>\n",
       "      <td>MCD</td>\n",
       "      <td>0.426359</td>\n",
       "      <td>1.000000</td>\n",
       "      <td>0.497808</td>\n",
       "      <td>0.381751</td>\n",
       "    </tr>\n",
       "    <tr>\n",
       "      <td>MMM</td>\n",
       "      <td>0.528267</td>\n",
       "      <td>0.497808</td>\n",
       "      <td>1.000000</td>\n",
       "      <td>0.419896</td>\n",
       "    </tr>\n",
       "    <tr>\n",
       "      <td>WMT</td>\n",
       "      <td>0.320711</td>\n",
       "      <td>0.381751</td>\n",
       "      <td>0.419896</td>\n",
       "      <td>1.000000</td>\n",
       "    </tr>\n",
       "  </tbody>\n",
       "</table>\n",
       "</div>"
      ],
      "text/plain": [
       "          IBM       MCD       MMM       WMT\n",
       "IBM  1.000000  0.426359  0.528267  0.320711\n",
       "MCD  0.426359  1.000000  0.497808  0.381751\n",
       "MMM  0.528267  0.497808  1.000000  0.419896\n",
       "WMT  0.320711  0.381751  0.419896  1.000000"
      ]
     },
     "execution_count": 12,
     "metadata": {},
     "output_type": "execute_result"
    }
   ],
   "source": [
    "df[Ticker].corr()"
   ]
  }
 ],
 "metadata": {
  "kernelspec": {
   "display_name": "Python 3",
   "language": "python",
   "name": "python3"
  },
  "language_info": {
   "codemirror_mode": {
    "name": "ipython",
    "version": 3
   },
   "file_extension": ".py",
   "mimetype": "text/x-python",
   "name": "python",
   "nbconvert_exporter": "python",
   "pygments_lexer": "ipython3",
   "version": "3.6.8"
  }
 },
 "nbformat": 4,
 "nbformat_minor": 2
}
