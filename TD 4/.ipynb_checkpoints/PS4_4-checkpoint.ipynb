{
 "cells": [
  {
   "cell_type": "code",
   "execution_count": 28,
   "metadata": {},
   "outputs": [],
   "source": [
    "import numpy as np\n",
    "import pandas as pd\n",
    "import matplotlib.pyplot as plt\n",
    "import scipy.stats as ss\n",
    "import datetime\n",
    "import statsmodels.api as sm\n",
    "from sklearn.decomposition import PCA"
   ]
  },
  {
   "cell_type": "code",
   "execution_count": 2,
   "metadata": {},
   "outputs": [],
   "source": [
    "N = 10000\n",
    "x = np.random.standard_t(5,size=(N,4))\n",
    "A = np.array([[1,0,0,0],[1,1,0,0],[-1,2,3,0],[1,-1,1,1]])\n",
    "X = (A.dot(x.T)).T\n",
    "L = np.sum(X,axis = 1)\n",
    "print(np.mean(L)+np.std(L)*ss.norm.ppf(0.95))\n",
    "print(np.sort(L)[::-1][int(0.95*N)]*-1)"
   ]
  },
  {
   "cell_type": "code",
   "execution_count": 14,
   "metadata": {},
   "outputs": [
    {
     "name": "stdout",
     "output_type": "stream",
     "text": [
      "[22.84529026  0.0999519   7.21595126  4.12618857]\n"
     ]
    }
   ],
   "source": [
    "cov = np.cov(X,rowvar = False)\n",
    "lambdas = np.linalg.eig(cov)[0]\n",
    "vec = np.linalg.eig(cov)[1]\n",
    "print(lambdas)"
   ]
  },
  {
   "cell_type": "code",
   "execution_count": 48,
   "metadata": {},
   "outputs": [
    {
     "name": "stdout",
     "output_type": "stream",
     "text": [
      "8.910703215984817\n",
      "8.873330830667795\n"
     ]
    }
   ],
   "source": [
    "G = np.array([vec[:,0],vec[:,2]])\n",
    "PCA = G.dot(X.T).T\n",
    "L2 = np.sum(PCA,axis = 1)\n",
    "print(np.mean(L2)+np.std(L2)*ss.norm.ppf(0.95))\n",
    "print(np.sort(L2)[::-1][int(0.95*N)]*-1)"
   ]
  },
  {
   "cell_type": "code",
   "execution_count": null,
   "metadata": {},
   "outputs": [],
   "source": []
  }
 ],
 "metadata": {
  "kernelspec": {
   "display_name": "Python 3",
   "language": "python",
   "name": "python3"
  },
  "language_info": {
   "codemirror_mode": {
    "name": "ipython",
    "version": 3
   },
   "file_extension": ".py",
   "mimetype": "text/x-python",
   "name": "python",
   "nbconvert_exporter": "python",
   "pygments_lexer": "ipython3",
   "version": "3.7.3"
  }
 },
 "nbformat": 4,
 "nbformat_minor": 2
}
