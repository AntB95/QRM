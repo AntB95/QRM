{
 "cells": [
  {
   "cell_type": "code",
   "execution_count": 1,
   "metadata": {},
   "outputs": [],
   "source": [
    "import numpy as np \n",
    "res = np.load('res.npy',allow_pickle=True)"
   ]
  },
  {
   "cell_type": "code",
   "execution_count": 2,
   "metadata": {},
   "outputs": [
    {
     "data": {
      "text/plain": [
       "array([[array([4.12388539e-05, 8.67442147e-02, 7.00594043e-01]),\n",
       "        -1446.9452899756088],\n",
       "       [array([1.89221827e-04, 3.98291999e-05, 4.14764979e-01]),\n",
       "        -1406.8995327373666],\n",
       "       [array([0.00657904, 0.00143349, 0.10517146]), -765.5781056172611],\n",
       "       ...,\n",
       "       [array([0.01616272, 0.0037285 , 0.03644055]), -562.1323592189897],\n",
       "       [array([5.36299939e-04, 1.29274268e-07, 1.18196999e-05]),\n",
       "        -1312.4968340309226],\n",
       "       [array([2.46496822e-03, 5.91787395e-07, 3.01842236e-05]),\n",
       "        -1018.9415799575993]], dtype=object)"
      ]
     },
     "execution_count": 2,
     "metadata": {},
     "output_type": "execute_result"
    }
   ],
   "source": [
    "res"
   ]
  },
  {
   "cell_type": "code",
   "execution_count": null,
   "metadata": {},
   "outputs": [],
   "source": []
  }
 ],
 "metadata": {
  "kernelspec": {
   "display_name": "Python 3",
   "language": "python",
   "name": "python3"
  },
  "language_info": {
   "codemirror_mode": {
    "name": "ipython",
    "version": 3
   },
   "file_extension": ".py",
   "mimetype": "text/x-python",
   "name": "python",
   "nbconvert_exporter": "python",
   "pygments_lexer": "ipython3",
   "version": "3.7.3"
  }
 },
 "nbformat": 4,
 "nbformat_minor": 2
}
