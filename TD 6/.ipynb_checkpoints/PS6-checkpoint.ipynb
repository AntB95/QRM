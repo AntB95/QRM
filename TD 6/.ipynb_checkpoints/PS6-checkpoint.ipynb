{
 "cells": [
  {
   "cell_type": "code",
   "execution_count": 21,
   "metadata": {},
   "outputs": [],
   "source": [
    "import numpy as np\n",
    "import pandas as pd\n",
    "from scipy.stats import norm\n",
    "import scipy.optimize as opti\n",
    "import wrds\n",
    "import datetime\n",
    "import statsmodels.api as sm\n",
    "import matplotlib.pyplot as plt"
   ]
  },
  {
   "cell_type": "markdown",
   "metadata": {},
   "source": [
    "# Exercise 2"
   ]
  },
  {
   "cell_type": "code",
   "execution_count": 2,
   "metadata": {},
   "outputs": [
    {
     "name": "stdout",
     "output_type": "stream",
     "text": [
      "Enter your WRDS username [bedanian]:antb95\n",
      "Enter your password:········\n",
      "WRDS recommends setting up a .pgpass file.\n",
      "You can find more info here:\n",
      "https://www.postgresql.org/docs/9.5/static/libpq-pgpass.html.\n",
      "Loading library list...\n",
      "Done\n"
     ]
    }
   ],
   "source": [
    "db = wrds.Connection()\n",
    "#antb95\n",
    "#goqhuB-1hafqe-dojvix"
   ]
  },
  {
   "cell_type": "code",
   "execution_count": 26,
   "metadata": {},
   "outputs": [],
   "source": [
    "#import data\n",
    "names = db.get_table(library='crsp', table='stocknames')\n",
    "names =names.loc[:,['permco' , 'ticker']]\n",
    "Ticker = 'MSFT'\n",
    "inter = names['permco'].where(names['ticker'] == Ticker)\n",
    "inter.dropna(inplace = True)\n",
    "Permco = inter.iloc[0]\n",
    "df = db.raw_sql(\"select prc, date from crsp.dsf where permco in (\"+str(Permco)+\") and date >='2011-04-07' and date <='2016-04-07'\")\n",
    "df.columns = ['MSFT' , 'Date']\n",
    "df.set_index('Date',inplace = True)"
   ]
  },
  {
   "cell_type": "code",
   "execution_count": 27,
   "metadata": {},
   "outputs": [],
   "source": [
    "df2 = pd.DataFrame()\n",
    "df2 = (np.log(df) - np.log(df).shift(1))\n",
    "df2.dropna(inplace = True)\n",
    "df2.columns = ['R']\n",
    "df2['Z'] = np.random.normal(0,1,len(df2))\n",
    "df2.reset_index(inplace = True)"
   ]
  },
  {
   "cell_type": "code",
   "execution_count": 28,
   "metadata": {},
   "outputs": [
    {
     "data": {
      "text/html": [
       "<div>\n",
       "<style scoped>\n",
       "    .dataframe tbody tr th:only-of-type {\n",
       "        vertical-align: middle;\n",
       "    }\n",
       "\n",
       "    .dataframe tbody tr th {\n",
       "        vertical-align: top;\n",
       "    }\n",
       "\n",
       "    .dataframe thead th {\n",
       "        text-align: right;\n",
       "    }\n",
       "</style>\n",
       "<table border=\"1\" class=\"dataframe\">\n",
       "  <thead>\n",
       "    <tr style=\"text-align: right;\">\n",
       "      <th></th>\n",
       "      <th>Date</th>\n",
       "      <th>R</th>\n",
       "      <th>Z</th>\n",
       "    </tr>\n",
       "  </thead>\n",
       "  <tbody>\n",
       "    <tr>\n",
       "      <th>0</th>\n",
       "      <td>2011-04-08</td>\n",
       "      <td>-0.497422</td>\n",
       "      <td>-1.405873</td>\n",
       "    </tr>\n",
       "    <tr>\n",
       "      <th>1</th>\n",
       "      <td>2011-04-11</td>\n",
       "      <td>-0.345822</td>\n",
       "      <td>-0.946208</td>\n",
       "    </tr>\n",
       "    <tr>\n",
       "      <th>2</th>\n",
       "      <td>2011-04-12</td>\n",
       "      <td>-1.317339</td>\n",
       "      <td>-1.954891</td>\n",
       "    </tr>\n",
       "    <tr>\n",
       "      <th>3</th>\n",
       "      <td>2011-04-13</td>\n",
       "      <td>-0.039010</td>\n",
       "      <td>-2.041000</td>\n",
       "    </tr>\n",
       "    <tr>\n",
       "      <th>4</th>\n",
       "      <td>2011-04-14</td>\n",
       "      <td>-0.822724</td>\n",
       "      <td>-0.042004</td>\n",
       "    </tr>\n",
       "  </tbody>\n",
       "</table>\n",
       "</div>"
      ],
      "text/plain": [
       "         Date         R         Z\n",
       "0  2011-04-08 -0.497422 -1.405873\n",
       "1  2011-04-11 -0.345822 -0.946208\n",
       "2  2011-04-12 -1.317339 -1.954891\n",
       "3  2011-04-13 -0.039010 -2.041000\n",
       "4  2011-04-14 -0.822724 -0.042004"
      ]
     },
     "execution_count": 28,
     "metadata": {},
     "output_type": "execute_result"
    }
   ],
   "source": [
    "df2.head()"
   ]
  },
  {
   "cell_type": "code",
   "execution_count": 29,
   "metadata": {},
   "outputs": [],
   "source": [
    "def sigma_t(alpha,x,t,sigma_0):\n",
    "    if t == 0:\n",
    "        return sigma_0\n",
    "    else:\n",
    "        return np.sqrt(alpha[0]+alpha[1]*x[t-1]**2+alpha[2]*sigma_t(alpha,x,t-1,sigma_0)**2)"
   ]
  },
  {
   "cell_type": "code",
   "execution_count": 30,
   "metadata": {},
   "outputs": [],
   "source": [
    "def L(alpha,x,sigma_0):\n",
    "    l = 0\n",
    "    for k in range(len(x)):\n",
    "        sigma = sigma_t(alpha,x,k,sigma_0)\n",
    "        l *= norm.pdf(x[k]/sigma)/sigma\n",
    "    return l"
   ]
  },
  {
   "cell_type": "code",
   "execution_count": 31,
   "metadata": {},
   "outputs": [
    {
     "name": "stdout",
     "output_type": "stream",
     "text": [
      "[0.5 0.6 0.7]\n",
      "[0.5 0.6 0.7]\n",
      "[0.5 0.6 0.7]\n",
      "[0.5 0.6 0.7]\n",
      "[0.5 0.6 0.7]\n",
      "[0.5 0.6 0.7]\n"
     ]
    }
   ],
   "source": [
    "index_0 = df2[df2['Date'] == datetime.date(2013,4,8)].index.values[0]\n",
    "i = 0 \n",
    "x0 = [0.5 , 0.6 , 0.7]\n",
    "bnds = ((0, None), (0, None), (0,None))\n",
    "x = list(df2['R'])\n",
    "while i+index_0 < len(x):  \n",
    "    xi = x[i:index_0+i]\n",
    "    mu = np.mean(xi)\n",
    "    xi = xi - mu\n",
    "    sigma_0 = np.std(xi)\n",
    "    fun = lambda alpha: -L(alpha,xi,sigma_0)\n",
    "    print(opti.minimize(fun, x0, bounds = bnds).x)\n",
    "    i=i+1\n",
    "    if i > 5:\n",
    "        break  "
   ]
  },
  {
   "cell_type": "code",
   "execution_count": null,
   "metadata": {},
   "outputs": [],
   "source": []
  }
 ],
 "metadata": {
  "kernelspec": {
   "display_name": "Python 3",
   "language": "python",
   "name": "python3"
  },
  "language_info": {
   "codemirror_mode": {
    "name": "ipython",
    "version": 3
   },
   "file_extension": ".py",
   "mimetype": "text/x-python",
   "name": "python",
   "nbconvert_exporter": "python",
   "pygments_lexer": "ipython3",
   "version": "3.7.3"
  }
 },
 "nbformat": 4,
 "nbformat_minor": 2
}
