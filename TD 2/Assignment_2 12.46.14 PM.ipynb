{
 "cells": [
  {
   "cell_type": "code",
   "execution_count": 1,
   "metadata": {},
   "outputs": [],
   "source": [
    "import numpy as np\n",
    "import pandas as pd\n",
    "import scipy.stats as stats \n",
    "import matplotlib.pyplot as plt"
   ]
  },
  {
   "cell_type": "markdown",
   "metadata": {},
   "source": [
    "# Exercise 1 "
   ]
  },
  {
   "cell_type": "code",
   "execution_count": 2,
   "metadata": {},
   "outputs": [],
   "source": [
    "S = np.array([100 , 50 , 25])\n",
    "Q = np.array([1 , 3 , 5])\n",
    "sig = np.log(S)\n",
    "delta_sig_sd = np.array([1 , 2 , 3]) * 10**-3\n",
    "N = 10**4\n",
    "alpha = np.arange(.9,1,.01)"
   ]
  },
  {
   "cell_type": "code",
   "execution_count": 3,
   "metadata": {},
   "outputs": [],
   "source": [
    "col_names = ['t3_1' , 't10_1' , 't50_1' , 'norm_1' , 't3_2' , 't10_2' , 't50_2' , 'norm_2' ,'t3_3' , 't10_3' , 't50_3' , 'norm_3']\n",
    "df = pd.DataFrame(columns = col_names , index = range(N))\n",
    "DoF = np.array([3 , 10 , 50])\n",
    "for i in range(len(S)):\n",
    "    scale_par = np.sqrt(DoF / (DoF - 2))/ delta_sig_sd[i]\n",
    "    df[col_names[(i)*4]] = np.random.standard_t(DoF[0],N) / scale_par[0]\n",
    "    df[col_names[(i)*4 +1]] = np.random.standard_t(DoF[1],N) / scale_par[1]\n",
    "    df[col_names[(i)*4 +2]] = np.random.standard_t(DoF[2],N) / scale_par[2]\n",
    "    df[col_names[(i)*4 +3]] = np.random.normal(0,delta_sig_sd[i],N)"
   ]
  },
  {
   "cell_type": "code",
   "execution_count": 4,
   "metadata": {},
   "outputs": [],
   "source": [
    "col_names2 = ['t3' , 't10' , 't50' , 'norm']\n",
    "df2 = pd.DataFrame(columns = col_names2 , index = range(N))\n",
    "df2['t3'] = -(S * Q * (np.exp(df[['t3_1','t3_2','t3_3']]) - 1)).sum(axis = 1)\n",
    "df2['t10'] = -(S * Q*(np.exp(df[['t10_1','t10_2','t10_3']]) - 1)).sum(axis = 1)\n",
    "df2['t50'] = -(S * Q*(np.exp(df[['t50_1','t50_2','t50_3']]) - 1)).sum(axis = 1)\n",
    "df2['norm'] = -(S * Q*(np.exp(df[['norm_1','norm_2','norm_3']]) - 1)).sum(axis = 1)"
   ]
  },
  {
   "cell_type": "code",
   "execution_count": 5,
   "metadata": {},
   "outputs": [
    {
     "data": {
      "text/html": [
       "<div>\n",
       "<style scoped>\n",
       "    .dataframe tbody tr th:only-of-type {\n",
       "        vertical-align: middle;\n",
       "    }\n",
       "\n",
       "    .dataframe tbody tr th {\n",
       "        vertical-align: top;\n",
       "    }\n",
       "\n",
       "    .dataframe thead th {\n",
       "        text-align: right;\n",
       "    }\n",
       "</style>\n",
       "<table border=\"1\" class=\"dataframe\">\n",
       "  <thead>\n",
       "    <tr style=\"text-align: right;\">\n",
       "      <th></th>\n",
       "      <th>t3</th>\n",
       "      <th>t10</th>\n",
       "      <th>t50</th>\n",
       "      <th>norm</th>\n",
       "    </tr>\n",
       "  </thead>\n",
       "  <tbody>\n",
       "    <tr>\n",
       "      <td>0</td>\n",
       "      <td>0.911191</td>\n",
       "      <td>0.314993</td>\n",
       "      <td>0.776305</td>\n",
       "      <td>-0.472226</td>\n",
       "    </tr>\n",
       "    <tr>\n",
       "      <td>1</td>\n",
       "      <td>0.061384</td>\n",
       "      <td>-0.148783</td>\n",
       "      <td>-0.445322</td>\n",
       "      <td>0.374284</td>\n",
       "    </tr>\n",
       "    <tr>\n",
       "      <td>2</td>\n",
       "      <td>0.040824</td>\n",
       "      <td>0.091908</td>\n",
       "      <td>0.196083</td>\n",
       "      <td>-0.669733</td>\n",
       "    </tr>\n",
       "    <tr>\n",
       "      <td>3</td>\n",
       "      <td>-0.352125</td>\n",
       "      <td>-0.287116</td>\n",
       "      <td>-0.103196</td>\n",
       "      <td>-0.376777</td>\n",
       "    </tr>\n",
       "    <tr>\n",
       "      <td>4</td>\n",
       "      <td>0.514142</td>\n",
       "      <td>0.424670</td>\n",
       "      <td>-0.182441</td>\n",
       "      <td>0.583193</td>\n",
       "    </tr>\n",
       "    <tr>\n",
       "      <td>...</td>\n",
       "      <td>...</td>\n",
       "      <td>...</td>\n",
       "      <td>...</td>\n",
       "      <td>...</td>\n",
       "    </tr>\n",
       "    <tr>\n",
       "      <td>9995</td>\n",
       "      <td>-0.706267</td>\n",
       "      <td>1.011115</td>\n",
       "      <td>-0.673325</td>\n",
       "      <td>-0.508916</td>\n",
       "    </tr>\n",
       "    <tr>\n",
       "      <td>9996</td>\n",
       "      <td>0.217687</td>\n",
       "      <td>-0.419483</td>\n",
       "      <td>0.633358</td>\n",
       "      <td>0.532454</td>\n",
       "    </tr>\n",
       "    <tr>\n",
       "      <td>9997</td>\n",
       "      <td>-0.173270</td>\n",
       "      <td>0.681698</td>\n",
       "      <td>0.591533</td>\n",
       "      <td>-0.091696</td>\n",
       "    </tr>\n",
       "    <tr>\n",
       "      <td>9998</td>\n",
       "      <td>0.760793</td>\n",
       "      <td>0.135042</td>\n",
       "      <td>0.594547</td>\n",
       "      <td>-0.082596</td>\n",
       "    </tr>\n",
       "    <tr>\n",
       "      <td>9999</td>\n",
       "      <td>-0.267970</td>\n",
       "      <td>-0.183098</td>\n",
       "      <td>-0.236401</td>\n",
       "      <td>0.670201</td>\n",
       "    </tr>\n",
       "  </tbody>\n",
       "</table>\n",
       "<p>10000 rows × 4 columns</p>\n",
       "</div>"
      ],
      "text/plain": [
       "            t3       t10       t50      norm\n",
       "0     0.911191  0.314993  0.776305 -0.472226\n",
       "1     0.061384 -0.148783 -0.445322  0.374284\n",
       "2     0.040824  0.091908  0.196083 -0.669733\n",
       "3    -0.352125 -0.287116 -0.103196 -0.376777\n",
       "4     0.514142  0.424670 -0.182441  0.583193\n",
       "...        ...       ...       ...       ...\n",
       "9995 -0.706267  1.011115 -0.673325 -0.508916\n",
       "9996  0.217687 -0.419483  0.633358  0.532454\n",
       "9997 -0.173270  0.681698  0.591533 -0.091696\n",
       "9998  0.760793  0.135042  0.594547 -0.082596\n",
       "9999 -0.267970 -0.183098 -0.236401  0.670201\n",
       "\n",
       "[10000 rows x 4 columns]"
      ]
     },
     "execution_count": 5,
     "metadata": {},
     "output_type": "execute_result"
    }
   ],
   "source": [
    "df2"
   ]
  },
  {
   "cell_type": "code",
   "execution_count": 6,
   "metadata": {},
   "outputs": [
    {
     "data": {
      "text/html": [
       "<div>\n",
       "<style scoped>\n",
       "    .dataframe tbody tr th:only-of-type {\n",
       "        vertical-align: middle;\n",
       "    }\n",
       "\n",
       "    .dataframe tbody tr th {\n",
       "        vertical-align: top;\n",
       "    }\n",
       "\n",
       "    .dataframe thead th {\n",
       "        text-align: right;\n",
       "    }\n",
       "</style>\n",
       "<table border=\"1\" class=\"dataframe\">\n",
       "  <thead>\n",
       "    <tr style=\"text-align: right;\">\n",
       "      <th></th>\n",
       "      <th>t3</th>\n",
       "      <th>t10</th>\n",
       "      <th>t50</th>\n",
       "      <th>norm</th>\n",
       "    </tr>\n",
       "  </thead>\n",
       "  <tbody>\n",
       "    <tr>\n",
       "      <td>0.90</td>\n",
       "      <td>0.502059</td>\n",
       "      <td>0.594705</td>\n",
       "      <td>0.620627</td>\n",
       "      <td>0.637345</td>\n",
       "    </tr>\n",
       "    <tr>\n",
       "      <td>0.91</td>\n",
       "      <td>0.531440</td>\n",
       "      <td>0.625773</td>\n",
       "      <td>0.649099</td>\n",
       "      <td>0.667323</td>\n",
       "    </tr>\n",
       "    <tr>\n",
       "      <td>0.92</td>\n",
       "      <td>0.566461</td>\n",
       "      <td>0.660457</td>\n",
       "      <td>0.680752</td>\n",
       "      <td>0.695948</td>\n",
       "    </tr>\n",
       "    <tr>\n",
       "      <td>0.93</td>\n",
       "      <td>0.602299</td>\n",
       "      <td>0.692509</td>\n",
       "      <td>0.718879</td>\n",
       "      <td>0.732331</td>\n",
       "    </tr>\n",
       "    <tr>\n",
       "      <td>0.94</td>\n",
       "      <td>0.645653</td>\n",
       "      <td>0.735445</td>\n",
       "      <td>0.753640</td>\n",
       "      <td>0.772068</td>\n",
       "    </tr>\n",
       "    <tr>\n",
       "      <td>0.95</td>\n",
       "      <td>0.698187</td>\n",
       "      <td>0.784473</td>\n",
       "      <td>0.793129</td>\n",
       "      <td>0.809305</td>\n",
       "    </tr>\n",
       "    <tr>\n",
       "      <td>0.96</td>\n",
       "      <td>0.760686</td>\n",
       "      <td>0.853577</td>\n",
       "      <td>0.853052</td>\n",
       "      <td>0.867344</td>\n",
       "    </tr>\n",
       "    <tr>\n",
       "      <td>0.97</td>\n",
       "      <td>0.858089</td>\n",
       "      <td>0.922974</td>\n",
       "      <td>0.918072</td>\n",
       "      <td>0.932555</td>\n",
       "    </tr>\n",
       "    <tr>\n",
       "      <td>0.98</td>\n",
       "      <td>0.993967</td>\n",
       "      <td>1.018249</td>\n",
       "      <td>1.010764</td>\n",
       "      <td>1.006069</td>\n",
       "    </tr>\n",
       "    <tr>\n",
       "      <td>0.99</td>\n",
       "      <td>1.281378</td>\n",
       "      <td>1.149354</td>\n",
       "      <td>1.111286</td>\n",
       "      <td>1.134843</td>\n",
       "    </tr>\n",
       "  </tbody>\n",
       "</table>\n",
       "</div>"
      ],
      "text/plain": [
       "            t3       t10       t50      norm\n",
       "0.90  0.502059  0.594705  0.620627  0.637345\n",
       "0.91  0.531440  0.625773  0.649099  0.667323\n",
       "0.92  0.566461  0.660457  0.680752  0.695948\n",
       "0.93  0.602299  0.692509  0.718879  0.732331\n",
       "0.94  0.645653  0.735445  0.753640  0.772068\n",
       "0.95  0.698187  0.784473  0.793129  0.809305\n",
       "0.96  0.760686  0.853577  0.853052  0.867344\n",
       "0.97  0.858089  0.922974  0.918072  0.932555\n",
       "0.98  0.993967  1.018249  1.010764  1.006069\n",
       "0.99  1.281378  1.149354  1.111286  1.134843"
      ]
     },
     "execution_count": 6,
     "metadata": {},
     "output_type": "execute_result"
    }
   ],
   "source": [
    "df2.quantile(alpha)"
   ]
  },
  {
   "cell_type": "code",
   "execution_count": 7,
   "metadata": {},
   "outputs": [
    {
     "data": {
      "text/html": [
       "<div>\n",
       "<style scoped>\n",
       "    .dataframe tbody tr th:only-of-type {\n",
       "        vertical-align: middle;\n",
       "    }\n",
       "\n",
       "    .dataframe tbody tr th {\n",
       "        vertical-align: top;\n",
       "    }\n",
       "\n",
       "    .dataframe thead th {\n",
       "        text-align: right;\n",
       "    }\n",
       "</style>\n",
       "<table border=\"1\" class=\"dataframe\">\n",
       "  <thead>\n",
       "    <tr style=\"text-align: right;\">\n",
       "      <th></th>\n",
       "      <th>t3</th>\n",
       "      <th>t10</th>\n",
       "      <th>t50</th>\n",
       "      <th>norm</th>\n",
       "    </tr>\n",
       "  </thead>\n",
       "  <tbody>\n",
       "    <tr>\n",
       "      <td>0.90</td>\n",
       "      <td>0.500285</td>\n",
       "      <td>0.603726</td>\n",
       "      <td>0.621662</td>\n",
       "      <td>0.636216</td>\n",
       "    </tr>\n",
       "    <tr>\n",
       "      <td>0.91</td>\n",
       "      <td>0.529666</td>\n",
       "      <td>0.634793</td>\n",
       "      <td>0.650134</td>\n",
       "      <td>0.666194</td>\n",
       "    </tr>\n",
       "    <tr>\n",
       "      <td>0.92</td>\n",
       "      <td>0.564687</td>\n",
       "      <td>0.669477</td>\n",
       "      <td>0.681787</td>\n",
       "      <td>0.694819</td>\n",
       "    </tr>\n",
       "    <tr>\n",
       "      <td>0.93</td>\n",
       "      <td>0.600525</td>\n",
       "      <td>0.701529</td>\n",
       "      <td>0.719914</td>\n",
       "      <td>0.731202</td>\n",
       "    </tr>\n",
       "    <tr>\n",
       "      <td>0.94</td>\n",
       "      <td>0.643879</td>\n",
       "      <td>0.744465</td>\n",
       "      <td>0.754676</td>\n",
       "      <td>0.770939</td>\n",
       "    </tr>\n",
       "    <tr>\n",
       "      <td>0.95</td>\n",
       "      <td>0.696412</td>\n",
       "      <td>0.793494</td>\n",
       "      <td>0.794164</td>\n",
       "      <td>0.808176</td>\n",
       "    </tr>\n",
       "    <tr>\n",
       "      <td>0.96</td>\n",
       "      <td>0.758912</td>\n",
       "      <td>0.862597</td>\n",
       "      <td>0.854088</td>\n",
       "      <td>0.866215</td>\n",
       "    </tr>\n",
       "    <tr>\n",
       "      <td>0.97</td>\n",
       "      <td>0.856315</td>\n",
       "      <td>0.931994</td>\n",
       "      <td>0.919107</td>\n",
       "      <td>0.931426</td>\n",
       "    </tr>\n",
       "    <tr>\n",
       "      <td>0.98</td>\n",
       "      <td>0.992192</td>\n",
       "      <td>1.027269</td>\n",
       "      <td>1.011800</td>\n",
       "      <td>1.004940</td>\n",
       "    </tr>\n",
       "    <tr>\n",
       "      <td>0.99</td>\n",
       "      <td>1.279603</td>\n",
       "      <td>1.158374</td>\n",
       "      <td>1.112321</td>\n",
       "      <td>1.133714</td>\n",
       "    </tr>\n",
       "  </tbody>\n",
       "</table>\n",
       "</div>"
      ],
      "text/plain": [
       "            t3       t10       t50      norm\n",
       "0.90  0.500285  0.603726  0.621662  0.636216\n",
       "0.91  0.529666  0.634793  0.650134  0.666194\n",
       "0.92  0.564687  0.669477  0.681787  0.694819\n",
       "0.93  0.600525  0.701529  0.719914  0.731202\n",
       "0.94  0.643879  0.744465  0.754676  0.770939\n",
       "0.95  0.696412  0.793494  0.794164  0.808176\n",
       "0.96  0.758912  0.862597  0.854088  0.866215\n",
       "0.97  0.856315  0.931994  0.919107  0.931426\n",
       "0.98  0.992192  1.027269  1.011800  1.004940\n",
       "0.99  1.279603  1.158374  1.112321  1.133714"
      ]
     },
     "execution_count": 7,
     "metadata": {},
     "output_type": "execute_result"
    }
   ],
   "source": [
    "df2.quantile(alpha) - df2.mean()"
   ]
  },
  {
   "cell_type": "code",
   "execution_count": 8,
   "metadata": {},
   "outputs": [
    {
     "data": {
      "text/html": [
       "<div>\n",
       "<style scoped>\n",
       "    .dataframe tbody tr th:only-of-type {\n",
       "        vertical-align: middle;\n",
       "    }\n",
       "\n",
       "    .dataframe tbody tr th {\n",
       "        vertical-align: top;\n",
       "    }\n",
       "\n",
       "    .dataframe thead th {\n",
       "        text-align: right;\n",
       "    }\n",
       "</style>\n",
       "<table border=\"1\" class=\"dataframe\">\n",
       "  <thead>\n",
       "    <tr style=\"text-align: right;\">\n",
       "      <th></th>\n",
       "      <th>t3</th>\n",
       "      <th>t10</th>\n",
       "      <th>t50</th>\n",
       "      <th>norm</th>\n",
       "    </tr>\n",
       "  </thead>\n",
       "  <tbody>\n",
       "    <tr>\n",
       "      <td>0.90</td>\n",
       "      <td>0.836826</td>\n",
       "      <td>0.852866</td>\n",
       "      <td>0.85408</td>\n",
       "      <td>0.866007</td>\n",
       "    </tr>\n",
       "    <tr>\n",
       "      <td>0.91</td>\n",
       "      <td>0.872615</td>\n",
       "      <td>0.879935</td>\n",
       "      <td>0.878316</td>\n",
       "      <td>0.889884</td>\n",
       "    </tr>\n",
       "    <tr>\n",
       "      <td>0.92</td>\n",
       "      <td>0.913045</td>\n",
       "      <td>0.909569</td>\n",
       "      <td>0.905129</td>\n",
       "      <td>0.915961</td>\n",
       "    </tr>\n",
       "    <tr>\n",
       "      <td>0.93</td>\n",
       "      <td>0.960175</td>\n",
       "      <td>0.942737</td>\n",
       "      <td>0.933849</td>\n",
       "      <td>0.944911</td>\n",
       "    </tr>\n",
       "    <tr>\n",
       "      <td>0.94</td>\n",
       "      <td>1.01599</td>\n",
       "      <td>0.980975</td>\n",
       "      <td>0.966941</td>\n",
       "      <td>0.977029</td>\n",
       "    </tr>\n",
       "    <tr>\n",
       "      <td>0.95</td>\n",
       "      <td>1.085</td>\n",
       "      <td>1.02558</td>\n",
       "      <td>1.00624</td>\n",
       "      <td>1.01407</td>\n",
       "    </tr>\n",
       "    <tr>\n",
       "      <td>0.96</td>\n",
       "      <td>1.17353</td>\n",
       "      <td>1.07744</td>\n",
       "      <td>1.05282</td>\n",
       "      <td>1.05904</td>\n",
       "    </tr>\n",
       "    <tr>\n",
       "      <td>0.97</td>\n",
       "      <td>1.29398</td>\n",
       "      <td>1.14034</td>\n",
       "      <td>1.10844</td>\n",
       "      <td>1.112</td>\n",
       "    </tr>\n",
       "    <tr>\n",
       "      <td>0.98</td>\n",
       "      <td>1.47937</td>\n",
       "      <td>1.22695</td>\n",
       "      <td>1.1799</td>\n",
       "      <td>1.18201</td>\n",
       "    </tr>\n",
       "    <tr>\n",
       "      <td>0.99</td>\n",
       "      <td>1.84503</td>\n",
       "      <td>1.37629</td>\n",
       "      <td>1.30409</td>\n",
       "      <td>1.30144</td>\n",
       "    </tr>\n",
       "  </tbody>\n",
       "</table>\n",
       "</div>"
      ],
      "text/plain": [
       "            t3       t10       t50      norm\n",
       "0.90  0.836826  0.852866   0.85408  0.866007\n",
       "0.91  0.872615  0.879935  0.878316  0.889884\n",
       "0.92  0.913045  0.909569  0.905129  0.915961\n",
       "0.93  0.960175  0.942737  0.933849  0.944911\n",
       "0.94   1.01599  0.980975  0.966941  0.977029\n",
       "0.95     1.085   1.02558   1.00624   1.01407\n",
       "0.96   1.17353   1.07744   1.05282   1.05904\n",
       "0.97   1.29398   1.14034   1.10844     1.112\n",
       "0.98   1.47937   1.22695    1.1799   1.18201\n",
       "0.99   1.84503   1.37629   1.30409   1.30144"
      ]
     },
     "execution_count": 8,
     "metadata": {},
     "output_type": "execute_result"
    }
   ],
   "source": [
    "df_VaR = pd.DataFrame(columns = col_names2,index = alpha)\n",
    "for i in range(len(alpha)):\n",
    "    for j in range(len(col_names2)):\n",
    "        #df_inter = df2[col_names2[j]].sort_values(ascending = False)[:int(round(N * (alpha[i])))]\n",
    "        #df_inter = df2.sort_values()[:int(round((N*(1-alpha[i]))))]\n",
    "        df_VaR.at[alpha[i],col_names2[j]] = df2[col_names2[j]].sort_values(ascending = False)[:int(round(N * (1 - alpha[i])))].mean()\n",
    "df_VaR"
   ]
  },
  {
   "cell_type": "code",
   "execution_count": 9,
   "metadata": {},
   "outputs": [
    {
     "data": {
      "text/plain": [
       "<matplotlib.legend.Legend at 0x10b1bb650>"
      ]
     },
     "execution_count": 9,
     "metadata": {},
     "output_type": "execute_result"
    },
    {
     "data": {
      "image/png": "[encoded data removed]",
      "text/plain": [
       "<Figure size 720x360 with 1 Axes>"
      ]
     },
     "metadata": {
      "needs_background": "light"
     },
     "output_type": "display_data"
    }
   ],
   "source": [
    "#Plot VaR\n",
    "plt.figure(figsize = (10,5))\n",
    "plt.plot(df2.quantile(alpha))\n",
    "plt.xlabel('Confidence level')\n",
    "plt.ylabel('VaR')\n",
    "plt.legend(df2.columns)"
   ]
  },
  {
   "cell_type": "code",
   "execution_count": 10,
   "metadata": {},
   "outputs": [
    {
     "data": {
      "text/plain": [
       "<matplotlib.legend.Legend at 0x10b25edd0>"
      ]
     },
     "execution_count": 10,
     "metadata": {},
     "output_type": "execute_result"
    },
    {
     "data": {
      "image/png": "[encoded data removed]",
      "text/plain": [
       "<Figure size 720x360 with 1 Axes>"
      ]
     },
     "metadata": {
      "needs_background": "light"
     },
     "output_type": "display_data"
    }
   ],
   "source": [
    "#Plot VaR mean\n",
    "plt.figure(figsize = (10,5))\n",
    "plt.plot(df2.quantile(alpha) - df2.mean())\n",
    "plt.xlabel('Confidence level')\n",
    "plt.ylabel('VaR_mean')\n",
    "plt.legend(df2.columns)"
   ]
  },
  {
   "cell_type": "code",
   "execution_count": 11,
   "metadata": {},
   "outputs": [
    {
     "data": {
      "text/plain": [
       "<matplotlib.legend.Legend at 0x1277f9550>"
      ]
     },
     "execution_count": 11,
     "metadata": {},
     "output_type": "execute_result"
    },
    {
     "data": {
      "image/png": "[encoded data removed]",
      "text/plain": [
       "<Figure size 720x360 with 1 Axes>"
      ]
     },
     "metadata": {
      "needs_background": "light"
     },
     "output_type": "display_data"
    }
   ],
   "source": [
    "#Plot ES\n",
    "plt.figure(figsize = (10,5))\n",
    "plt.plot(df_VaR)\n",
    "plt.xlabel('Confidence level')\n",
    "plt.ylabel('ES')\n",
    "plt.legend(df_VaR)"
   ]
  },
  {
   "cell_type": "code",
   "execution_count": 12,
   "metadata": {},
   "outputs": [
    {
     "data": {
      "text/plain": [
       "<matplotlib.legend.Legend at 0x125512090>"
      ]
     },
     "execution_count": 12,
     "metadata": {},
     "output_type": "execute_result"
    },
    {
     "data": {
      "image/png": "[encoded data removed]",
      "text/plain": [
       "<Figure size 720x360 with 1 Axes>"
      ]
     },
     "metadata": {
      "needs_background": "light"
     },
     "output_type": "display_data"
    }
   ],
   "source": [
    "#Plot diff VaR and Var_mean\n",
    "plt.figure(figsize = (10,5))\n",
    "plt.plot(df2.quantile(alpha) - (df2.quantile(alpha) - df2.mean()))\n",
    "plt.xlabel('Confidence level')\n",
    "plt.ylabel('Diff Var - VaR_mean')\n",
    "plt.legend(df2.columns)"
   ]
  },
  {
   "cell_type": "markdown",
   "metadata": {},
   "source": [
    "# Exercise 2"
   ]
  },
  {
   "cell_type": "code",
   "execution_count": 13,
   "metadata": {},
   "outputs": [],
   "source": [
    "#Set parameters\n",
    "T = 0.5\n",
    "r = 0.05\n",
    "sig = 0.2\n",
    "S = 100\n",
    "K = 100\n",
    "dt = 1/252\n",
    "q = 0"
   ]
  },
  {
   "cell_type": "code",
   "execution_count": 14,
   "metadata": {},
   "outputs": [],
   "source": [
    "alpha = np.array([0.95,0.99])\n",
    "cov = np.array([[10**-6, -0.5 * 10**-7],[-0.5 * 10**-7, 10**-8]])\n",
    "df = pd.DataFrame(np.random.multivariate_normal([0,0],cov,10**4),columns = ['X_1' , 'X_3'])"
   ]
  },
  {
   "cell_type": "code",
   "execution_count": 15,
   "metadata": {},
   "outputs": [],
   "source": [
    "def European_Call (S,K,T,q,r,sig):\n",
    "    d1 = (np.log(S/K) + (r - q + sig**2/2) * T)/(sig * np.sqrt(T))\n",
    "    d2 = d1 - sig * np.sqrt(T)\n",
    "    return S * np.exp(-q * T) * stats.norm.cdf(d1) - K * np.exp(-r * T) * stats.norm.cdf(d2)\n",
    "\n",
    "def Theta(S,K,q,r,sig,delta):\n",
    "    d1 = (np.log(S/K) + (r - q + sig**2 /2) * delta) / (sig * np.sqrt(delta))\n",
    "    d2 = d1 - sig * np.sqrt(delta)\n",
    "    return - np.exp(- q * delta) * S * stats.norm.pdf(d1) * sig / ( 2 * np.sqrt(delta)) - r * K * np.exp(- r * delta) * stats.norm.cdf(d2) + q * S * np.exp(-q * delta) * stats.norm.cdf(d1)\n",
    "\n",
    "def Delta(S,K,q,r,sig,delta):\n",
    "    d1 = (np.log(S/K) + (r - q + sig**2 /2) * delta) / (sig * np.sqrt(delta))\n",
    "    return np.exp(-q*delta) * stats.norm.cdf(d1)\n",
    "\n",
    "def Vega(S,K,q,r,sig,delta):\n",
    "    d1 = (np.log(S/K) + (r - q + sig**2 /2) * delta) / (sig * np.sqrt(delta))\n",
    "    return S * np.exp(-q * delta) * stats.norm.pdf(d1) * np.sqrt(delta)\n",
    "\n",
    "\n"
   ]
  },
  {
   "cell_type": "code",
   "execution_count": 16,
   "metadata": {},
   "outputs": [],
   "source": [
    "C0 = European_Call(S,K,T,q,r,sig)\n",
    "df_real = pd.DataFrame(columns = ['Price' , 'Sig'])\n",
    "df_real.Price = S * np.exp(df.X_1)\n",
    "df_real.Sig = sig + df.X_3"
   ]
  },
  {
   "cell_type": "code",
   "execution_count": 17,
   "metadata": {},
   "outputs": [],
   "source": [
    "Val = pd.DataFrame(columns = ['Monte_Carlo' , 'Lin_Loss'])"
   ]
  },
  {
   "cell_type": "code",
   "execution_count": 18,
   "metadata": {},
   "outputs": [],
   "source": [
    "Val.Monte_Carlo = C0 - European_Call(df_real.Price, K , T , q , r , df_real.Sig) - S + df_real.Price"
   ]
  },
  {
   "cell_type": "code",
   "execution_count": 19,
   "metadata": {},
   "outputs": [],
   "source": [
    "Val.Lin_Loss = - (Theta(S,K,q,r,sig,T) * dt + df.X_1 * S *(1 + Delta(S,K,q,r,sig,T)) + df.X_3 * Vega(S,K,q,r,sig,T))"
   ]
  },
  {
   "cell_type": "code",
   "execution_count": 20,
   "metadata": {},
   "outputs": [],
   "source": [
    "VaR = pd.DataFrame(index = ['Monte_Carlo' , 'Lin_Loss' , 'VarCovar'],columns = ['VaR_0.05','VaR_mean_0.05','ES_0.05','VaR_0.01','VaR_mean_0.01','ES_0.01'])"
   ]
  },
  {
   "cell_type": "code",
   "execution_count": 21,
   "metadata": {},
   "outputs": [],
   "source": [
    "VaR.loc['Monte_Carlo'][0] = Val.Monte_Carlo.quantile(1 - alpha[0])\n",
    "VaR.loc['Monte_Carlo'][1] = VaR.loc['Monte_Carlo'][0] - Val.Monte_Carlo.mean()\n",
    "VaR.loc['Monte_Carlo'][2] = Val.Monte_Carlo.sort_values()[:int(round(N * (1 - alpha[0])))].mean()\n",
    "VaR.loc['Monte_Carlo'][3] = Val.Monte_Carlo.quantile(1 - alpha[1])\n",
    "VaR.loc['Monte_Carlo'][4] = VaR.loc['Monte_Carlo'][3] - Val.Monte_Carlo.mean()\n",
    "VaR.loc['Monte_Carlo'][5] = Val.Monte_Carlo.sort_values()[:int(round(N * (1 - alpha[1])))].mean()"
   ]
  },
  {
   "cell_type": "code",
   "execution_count": 22,
   "metadata": {},
   "outputs": [],
   "source": [
    "VaR.loc['Lin_Loss'][0] = Val.Lin_Loss.quantile(1 - alpha[0])\n",
    "VaR.loc['Lin_Loss'][1] = VaR.loc['Lin_Loss'][0] - Val.Lin_Loss.mean()\n",
    "VaR.loc['Lin_Loss'][2] = Val.Lin_Loss.sort_values()[:int(round(N * (1 - alpha[0])))].mean()\n",
    "VaR.loc['Lin_Loss'][3] = Val.Lin_Loss.quantile(1 - alpha[1])\n",
    "VaR.loc['Lin_Loss'][4] = VaR.loc['Lin_Loss'][3] - Val.Lin_Loss.mean()\n",
    "VaR.loc['Lin_Loss'][5] = Val.Lin_Loss.sort_values()[:int(round(N * (1 - alpha[1])))].mean()"
   ]
  },
  {
   "cell_type": "code",
   "execution_count": 23,
   "metadata": {},
   "outputs": [],
   "source": [
    "B = np.array([ (Delta(S,K,q,r,sig,T) + 1) * S , Vega(S,K,q,r,sig,T)])\n",
    "VaR.loc['VarCovar'][0] = - Theta(S,K,q,r,sig,T) * dt + np.sqrt(np.matmul(B.transpose(),np.matmul(B,cov))) * stats.norm.ppf(1 - alpha[0])\n",
    "VaR.loc['VarCovar'][1] = VaR.loc['VarCovar'][0]\n",
    "VaR.loc['VarCovar'][2] = - Theta(S,K,q,r,sig,T) * dt + np.sqrt(np.matmul(B.transpose(),np.matmul(B,cov))) * stats.norm.pdf(stats.norm.ppf(1 - alpha[0]))/alpha[0]\n",
    "VaR.loc['VarCovar'][3] = - Theta(S,K,q,r,sig,T) * dt + np.sqrt(np.matmul(B.transpose(),np.matmul(B,cov))) * stats.norm.ppf(1 - alpha[1])\n",
    "VaR.loc['VarCovar'][4] = VaR.loc['VarCovar'][3]\n",
    "VaR.loc['VarCovar'][5] = - Theta(S,K,q,r,sig,T) * dt + np.sqrt(np.matmul(B.transpose(),np.matmul(B,cov))) * stats.norm.pdf(stats.norm.ppf(1 - alpha[1]))/alpha[1]"
   ]
  },
  {
   "cell_type": "code",
   "execution_count": 24,
   "metadata": {},
   "outputs": [
    {
     "data": {
      "text/html": [
       "<div>\n",
       "<style scoped>\n",
       "    .dataframe tbody tr th:only-of-type {\n",
       "        vertical-align: middle;\n",
       "    }\n",
       "\n",
       "    .dataframe tbody tr th {\n",
       "        vertical-align: top;\n",
       "    }\n",
       "\n",
       "    .dataframe thead th {\n",
       "        text-align: right;\n",
       "    }\n",
       "</style>\n",
       "<table border=\"1\" class=\"dataframe\">\n",
       "  <thead>\n",
       "    <tr style=\"text-align: right;\">\n",
       "      <th></th>\n",
       "      <th>VaR_0.05</th>\n",
       "      <th>VaR_mean_0.05</th>\n",
       "      <th>ES_0.05</th>\n",
       "      <th>VaR_0.01</th>\n",
       "      <th>VaR_mean_0.01</th>\n",
       "      <th>ES_0.01</th>\n",
       "    </tr>\n",
       "  </thead>\n",
       "  <tbody>\n",
       "    <tr>\n",
       "      <td>Monte_Carlo</td>\n",
       "      <td>-0.0686048</td>\n",
       "      <td>-0.0689248</td>\n",
       "      <td>-0.0862567</td>\n",
       "      <td>-0.0977952</td>\n",
       "      <td>-0.0981152</td>\n",
       "      <td>-0.112361</td>\n",
       "    </tr>\n",
       "    <tr>\n",
       "      <td>Lin_Loss</td>\n",
       "      <td>-0.227941</td>\n",
       "      <td>-0.258499</td>\n",
       "      <td>-0.289419</td>\n",
       "      <td>-0.331039</td>\n",
       "      <td>-0.361596</td>\n",
       "      <td>-0.375782</td>\n",
       "    </tr>\n",
       "    <tr>\n",
       "      <td>VarCovar</td>\n",
       "      <td>-0.228377</td>\n",
       "      <td>-0.228377</td>\n",
       "      <td>0.0494053</td>\n",
       "      <td>-0.336341</td>\n",
       "      <td>-0.336341</td>\n",
       "      <td>0.0364712</td>\n",
       "    </tr>\n",
       "  </tbody>\n",
       "</table>\n",
       "</div>"
      ],
      "text/plain": [
       "              VaR_0.05 VaR_mean_0.05    ES_0.05   VaR_0.01 VaR_mean_0.01  \\\n",
       "Monte_Carlo -0.0686048    -0.0689248 -0.0862567 -0.0977952    -0.0981152   \n",
       "Lin_Loss     -0.227941     -0.258499  -0.289419  -0.331039     -0.361596   \n",
       "VarCovar     -0.228377     -0.228377  0.0494053  -0.336341     -0.336341   \n",
       "\n",
       "               ES_0.01  \n",
       "Monte_Carlo  -0.112361  \n",
       "Lin_Loss     -0.375782  \n",
       "VarCovar     0.0364712  "
      ]
     },
     "execution_count": 24,
     "metadata": {},
     "output_type": "execute_result"
    }
   ],
   "source": [
    "VaR"
   ]
  }
 ],
 "metadata": {
  "kernelspec": {
   "display_name": "Python 3",
   "language": "python",
   "name": "python3"
  },
  "language_info": {
   "codemirror_mode": {
    "name": "ipython",
    "version": 3
   },
   "file_extension": ".py",
   "mimetype": "text/x-python",
   "name": "python",
   "nbconvert_exporter": "python",
   "pygments_lexer": "ipython3",
   "version": "3.6.8"
  }
 },
 "nbformat": 4,
 "nbformat_minor": 2
}
