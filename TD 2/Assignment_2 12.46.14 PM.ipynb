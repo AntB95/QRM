{
 "cells": [
  {
   "cell_type": "code",
   "execution_count": 36,
   "metadata": {},
   "outputs": [],
   "source": [
    "import numpy as np\n",
    "import pandas as pd\n",
    "import scipy.stats as stats \n",
    "import matplotlib.pyplot as plt"
   ]
  },
  {
   "cell_type": "markdown",
   "metadata": {},
   "source": [
    "# Exercise 1 "
   ]
  },
  {
   "cell_type": "code",
   "execution_count": 11,
   "metadata": {},
   "outputs": [],
   "source": [
    "S = np.array([100 , 50 , 25])\n",
    "Q = np.array([1 , 3 , 5])\n",
    "sig = np.log(S)\n",
    "delta_sig_sd = np.array([1 , 2 , 3]) * 10**-3\n",
    "N = 10**4\n",
    "alpha = np.arange(.9,1,.01)"
   ]
  },
  {
   "cell_type": "code",
   "execution_count": 12,
   "metadata": {},
   "outputs": [],
   "source": [
    "col_names = ['t3_1' , 't10_1' , 't50_1' , 'norm_1' , 't3_2' , 't10_2' , 't50_2' , 'norm_2' ,'t3_3' , 't10_3' , 't50_3' , 'norm_3']\n",
    "df = pd.DataFrame(columns = col_names , index = range(N))\n",
    "DoF = np.array([3 , 10 , 50])\n",
    "for i in range(len(S)):\n",
    "    scale_par = np.sqrt(DoF / (DoF - 2))/ delta_sig_sd[i]\n",
    "    df[col_names[(i)*4]] = np.random.standard_t(DoF[0],N) / scale_par[0]\n",
    "    df[col_names[(i)*4 +1]] = np.random.standard_t(DoF[1],N) / scale_par[1]\n",
    "    df[col_names[(i)*4 +2]] = np.random.standard_t(DoF[2],N) / scale_par[2]\n",
    "    df[col_names[(i)*4 +3]] = np.random.normal(0,delta_sig_sd[i],N)"
   ]
  },
  {
   "cell_type": "code",
   "execution_count": 24,
   "metadata": {},
   "outputs": [],
   "source": [
    "col_names2 = ['t3' , 't10' , 't50' , 'norm']\n",
    "df2 = pd.DataFrame(columns = col_names2 , index = range(N))\n",
    "df2['t3'] = -(S * Q * (np.exp(df[['t3_1','t3_2','t3_3']]) - 1)).sum(axis = 1)\n",
    "df2['t10'] = -(S * Q*(np.exp(df[['t10_1','t10_2','t10_3']]) - 1)).sum(axis = 1)\n",
    "df2['t50'] = -(S * Q*(np.exp(df[['t50_1','t50_2','t50_3']]) - 1)).sum(axis = 1)\n",
    "df2['norm'] = -(S * Q*(np.exp(df[['norm_1','norm_2','norm_3']]) - 1)).sum(axis = 1)"
   ]
  },
  {
   "cell_type": "code",
   "execution_count": 25,
   "metadata": {},
   "outputs": [
    {
     "data": {
      "text/html": [
       "<div>\n",
       "<style scoped>\n",
       "    .dataframe tbody tr th:only-of-type {\n",
       "        vertical-align: middle;\n",
       "    }\n",
       "\n",
       "    .dataframe tbody tr th {\n",
       "        vertical-align: top;\n",
       "    }\n",
       "\n",
       "    .dataframe thead th {\n",
       "        text-align: right;\n",
       "    }\n",
       "</style>\n",
       "<table border=\"1\" class=\"dataframe\">\n",
       "  <thead>\n",
       "    <tr style=\"text-align: right;\">\n",
       "      <th></th>\n",
       "      <th>t3</th>\n",
       "      <th>t10</th>\n",
       "      <th>t50</th>\n",
       "      <th>norm</th>\n",
       "    </tr>\n",
       "  </thead>\n",
       "  <tbody>\n",
       "    <tr>\n",
       "      <td>0</td>\n",
       "      <td>1.096028</td>\n",
       "      <td>0.241714</td>\n",
       "      <td>0.034091</td>\n",
       "      <td>-0.071361</td>\n",
       "    </tr>\n",
       "    <tr>\n",
       "      <td>1</td>\n",
       "      <td>-0.149329</td>\n",
       "      <td>0.534958</td>\n",
       "      <td>0.357213</td>\n",
       "      <td>0.367041</td>\n",
       "    </tr>\n",
       "    <tr>\n",
       "      <td>2</td>\n",
       "      <td>0.375287</td>\n",
       "      <td>-0.438913</td>\n",
       "      <td>-0.376401</td>\n",
       "      <td>0.776879</td>\n",
       "    </tr>\n",
       "    <tr>\n",
       "      <td>3</td>\n",
       "      <td>0.151087</td>\n",
       "      <td>0.296579</td>\n",
       "      <td>0.420685</td>\n",
       "      <td>0.552199</td>\n",
       "    </tr>\n",
       "    <tr>\n",
       "      <td>4</td>\n",
       "      <td>-0.101116</td>\n",
       "      <td>0.613617</td>\n",
       "      <td>0.110298</td>\n",
       "      <td>0.461762</td>\n",
       "    </tr>\n",
       "    <tr>\n",
       "      <td>...</td>\n",
       "      <td>...</td>\n",
       "      <td>...</td>\n",
       "      <td>...</td>\n",
       "      <td>...</td>\n",
       "    </tr>\n",
       "    <tr>\n",
       "      <td>9995</td>\n",
       "      <td>-0.176071</td>\n",
       "      <td>0.115478</td>\n",
       "      <td>-0.372504</td>\n",
       "      <td>-0.299968</td>\n",
       "    </tr>\n",
       "    <tr>\n",
       "      <td>9996</td>\n",
       "      <td>-1.049802</td>\n",
       "      <td>0.231819</td>\n",
       "      <td>0.218454</td>\n",
       "      <td>-0.617388</td>\n",
       "    </tr>\n",
       "    <tr>\n",
       "      <td>9997</td>\n",
       "      <td>0.026325</td>\n",
       "      <td>-0.367126</td>\n",
       "      <td>-0.844962</td>\n",
       "      <td>-0.746498</td>\n",
       "    </tr>\n",
       "    <tr>\n",
       "      <td>9998</td>\n",
       "      <td>0.006793</td>\n",
       "      <td>0.491747</td>\n",
       "      <td>-0.404633</td>\n",
       "      <td>-0.664403</td>\n",
       "    </tr>\n",
       "    <tr>\n",
       "      <td>9999</td>\n",
       "      <td>-0.456809</td>\n",
       "      <td>-0.511806</td>\n",
       "      <td>-0.410484</td>\n",
       "      <td>0.130566</td>\n",
       "    </tr>\n",
       "  </tbody>\n",
       "</table>\n",
       "<p>10000 rows × 4 columns</p>\n",
       "</div>"
      ],
      "text/plain": [
       "            t3       t10       t50      norm\n",
       "0     1.096028  0.241714  0.034091 -0.071361\n",
       "1    -0.149329  0.534958  0.357213  0.367041\n",
       "2     0.375287 -0.438913 -0.376401  0.776879\n",
       "3     0.151087  0.296579  0.420685  0.552199\n",
       "4    -0.101116  0.613617  0.110298  0.461762\n",
       "...        ...       ...       ...       ...\n",
       "9995 -0.176071  0.115478 -0.372504 -0.299968\n",
       "9996 -1.049802  0.231819  0.218454 -0.617388\n",
       "9997  0.026325 -0.367126 -0.844962 -0.746498\n",
       "9998  0.006793  0.491747 -0.404633 -0.664403\n",
       "9999 -0.456809 -0.511806 -0.410484  0.130566\n",
       "\n",
       "[10000 rows x 4 columns]"
      ]
     },
     "execution_count": 25,
     "metadata": {},
     "output_type": "execute_result"
    }
   ],
   "source": [
    "df2"
   ]
  },
  {
   "cell_type": "code",
   "execution_count": 26,
   "metadata": {},
   "outputs": [
    {
     "data": {
      "text/html": [
       "<div>\n",
       "<style scoped>\n",
       "    .dataframe tbody tr th:only-of-type {\n",
       "        vertical-align: middle;\n",
       "    }\n",
       "\n",
       "    .dataframe tbody tr th {\n",
       "        vertical-align: top;\n",
       "    }\n",
       "\n",
       "    .dataframe thead th {\n",
       "        text-align: right;\n",
       "    }\n",
       "</style>\n",
       "<table border=\"1\" class=\"dataframe\">\n",
       "  <thead>\n",
       "    <tr style=\"text-align: right;\">\n",
       "      <th></th>\n",
       "      <th>t3</th>\n",
       "      <th>t10</th>\n",
       "      <th>t50</th>\n",
       "      <th>norm</th>\n",
       "    </tr>\n",
       "  </thead>\n",
       "  <tbody>\n",
       "    <tr>\n",
       "      <td>0.90</td>\n",
       "      <td>0.505544</td>\n",
       "      <td>0.620004</td>\n",
       "      <td>0.614902</td>\n",
       "      <td>0.621858</td>\n",
       "    </tr>\n",
       "    <tr>\n",
       "      <td>0.91</td>\n",
       "      <td>0.533966</td>\n",
       "      <td>0.644010</td>\n",
       "      <td>0.644432</td>\n",
       "      <td>0.652461</td>\n",
       "    </tr>\n",
       "    <tr>\n",
       "      <td>0.92</td>\n",
       "      <td>0.570238</td>\n",
       "      <td>0.674295</td>\n",
       "      <td>0.672402</td>\n",
       "      <td>0.684478</td>\n",
       "    </tr>\n",
       "    <tr>\n",
       "      <td>0.93</td>\n",
       "      <td>0.606586</td>\n",
       "      <td>0.709386</td>\n",
       "      <td>0.703384</td>\n",
       "      <td>0.721943</td>\n",
       "    </tr>\n",
       "    <tr>\n",
       "      <td>0.94</td>\n",
       "      <td>0.657080</td>\n",
       "      <td>0.743600</td>\n",
       "      <td>0.739110</td>\n",
       "      <td>0.758430</td>\n",
       "    </tr>\n",
       "    <tr>\n",
       "      <td>0.95</td>\n",
       "      <td>0.711337</td>\n",
       "      <td>0.792783</td>\n",
       "      <td>0.780326</td>\n",
       "      <td>0.795097</td>\n",
       "    </tr>\n",
       "    <tr>\n",
       "      <td>0.96</td>\n",
       "      <td>0.773651</td>\n",
       "      <td>0.853476</td>\n",
       "      <td>0.827393</td>\n",
       "      <td>0.850748</td>\n",
       "    </tr>\n",
       "    <tr>\n",
       "      <td>0.97</td>\n",
       "      <td>0.883514</td>\n",
       "      <td>0.930475</td>\n",
       "      <td>0.896570</td>\n",
       "      <td>0.908108</td>\n",
       "    </tr>\n",
       "    <tr>\n",
       "      <td>0.98</td>\n",
       "      <td>1.043861</td>\n",
       "      <td>1.021855</td>\n",
       "      <td>0.985513</td>\n",
       "      <td>0.989092</td>\n",
       "    </tr>\n",
       "    <tr>\n",
       "      <td>0.99</td>\n",
       "      <td>1.322983</td>\n",
       "      <td>1.183643</td>\n",
       "      <td>1.117960</td>\n",
       "      <td>1.132786</td>\n",
       "    </tr>\n",
       "  </tbody>\n",
       "</table>\n",
       "</div>"
      ],
      "text/plain": [
       "            t3       t10       t50      norm\n",
       "0.90  0.505544  0.620004  0.614902  0.621858\n",
       "0.91  0.533966  0.644010  0.644432  0.652461\n",
       "0.92  0.570238  0.674295  0.672402  0.684478\n",
       "0.93  0.606586  0.709386  0.703384  0.721943\n",
       "0.94  0.657080  0.743600  0.739110  0.758430\n",
       "0.95  0.711337  0.792783  0.780326  0.795097\n",
       "0.96  0.773651  0.853476  0.827393  0.850748\n",
       "0.97  0.883514  0.930475  0.896570  0.908108\n",
       "0.98  1.043861  1.021855  0.985513  0.989092\n",
       "0.99  1.322983  1.183643  1.117960  1.132786"
      ]
     },
     "execution_count": 26,
     "metadata": {},
     "output_type": "execute_result"
    }
   ],
   "source": [
    "df2.quantile(alpha)"
   ]
  },
  {
   "cell_type": "code",
   "execution_count": 27,
   "metadata": {},
   "outputs": [
    {
     "data": {
      "text/html": [
       "<div>\n",
       "<style scoped>\n",
       "    .dataframe tbody tr th:only-of-type {\n",
       "        vertical-align: middle;\n",
       "    }\n",
       "\n",
       "    .dataframe tbody tr th {\n",
       "        vertical-align: top;\n",
       "    }\n",
       "\n",
       "    .dataframe thead th {\n",
       "        text-align: right;\n",
       "    }\n",
       "</style>\n",
       "<table border=\"1\" class=\"dataframe\">\n",
       "  <thead>\n",
       "    <tr style=\"text-align: right;\">\n",
       "      <th></th>\n",
       "      <th>t3</th>\n",
       "      <th>t10</th>\n",
       "      <th>t50</th>\n",
       "      <th>norm</th>\n",
       "    </tr>\n",
       "  </thead>\n",
       "  <tbody>\n",
       "    <tr>\n",
       "      <td>0.90</td>\n",
       "      <td>0.502771</td>\n",
       "      <td>0.621234</td>\n",
       "      <td>0.613747</td>\n",
       "      <td>0.624154</td>\n",
       "    </tr>\n",
       "    <tr>\n",
       "      <td>0.91</td>\n",
       "      <td>0.531194</td>\n",
       "      <td>0.645239</td>\n",
       "      <td>0.643277</td>\n",
       "      <td>0.654757</td>\n",
       "    </tr>\n",
       "    <tr>\n",
       "      <td>0.92</td>\n",
       "      <td>0.567465</td>\n",
       "      <td>0.675524</td>\n",
       "      <td>0.671247</td>\n",
       "      <td>0.686774</td>\n",
       "    </tr>\n",
       "    <tr>\n",
       "      <td>0.93</td>\n",
       "      <td>0.603813</td>\n",
       "      <td>0.710616</td>\n",
       "      <td>0.702229</td>\n",
       "      <td>0.724239</td>\n",
       "    </tr>\n",
       "    <tr>\n",
       "      <td>0.94</td>\n",
       "      <td>0.654308</td>\n",
       "      <td>0.744830</td>\n",
       "      <td>0.737955</td>\n",
       "      <td>0.760726</td>\n",
       "    </tr>\n",
       "    <tr>\n",
       "      <td>0.95</td>\n",
       "      <td>0.708565</td>\n",
       "      <td>0.794012</td>\n",
       "      <td>0.779171</td>\n",
       "      <td>0.797393</td>\n",
       "    </tr>\n",
       "    <tr>\n",
       "      <td>0.96</td>\n",
       "      <td>0.770879</td>\n",
       "      <td>0.854706</td>\n",
       "      <td>0.826238</td>\n",
       "      <td>0.853044</td>\n",
       "    </tr>\n",
       "    <tr>\n",
       "      <td>0.97</td>\n",
       "      <td>0.880742</td>\n",
       "      <td>0.931704</td>\n",
       "      <td>0.895415</td>\n",
       "      <td>0.910404</td>\n",
       "    </tr>\n",
       "    <tr>\n",
       "      <td>0.98</td>\n",
       "      <td>1.041088</td>\n",
       "      <td>1.023084</td>\n",
       "      <td>0.984358</td>\n",
       "      <td>0.991388</td>\n",
       "    </tr>\n",
       "    <tr>\n",
       "      <td>0.99</td>\n",
       "      <td>1.320211</td>\n",
       "      <td>1.184873</td>\n",
       "      <td>1.116805</td>\n",
       "      <td>1.135082</td>\n",
       "    </tr>\n",
       "  </tbody>\n",
       "</table>\n",
       "</div>"
      ],
      "text/plain": [
       "            t3       t10       t50      norm\n",
       "0.90  0.502771  0.621234  0.613747  0.624154\n",
       "0.91  0.531194  0.645239  0.643277  0.654757\n",
       "0.92  0.567465  0.675524  0.671247  0.686774\n",
       "0.93  0.603813  0.710616  0.702229  0.724239\n",
       "0.94  0.654308  0.744830  0.737955  0.760726\n",
       "0.95  0.708565  0.794012  0.779171  0.797393\n",
       "0.96  0.770879  0.854706  0.826238  0.853044\n",
       "0.97  0.880742  0.931704  0.895415  0.910404\n",
       "0.98  1.041088  1.023084  0.984358  0.991388\n",
       "0.99  1.320211  1.184873  1.116805  1.135082"
      ]
     },
     "execution_count": 27,
     "metadata": {},
     "output_type": "execute_result"
    }
   ],
   "source": [
    "df2.quantile(alpha) - df2.mean()"
   ]
  },
  {
   "cell_type": "code",
   "execution_count": 34,
   "metadata": {},
   "outputs": [
    {
     "data": {
      "text/html": [
       "<div>\n",
       "<style scoped>\n",
       "    .dataframe tbody tr th:only-of-type {\n",
       "        vertical-align: middle;\n",
       "    }\n",
       "\n",
       "    .dataframe tbody tr th {\n",
       "        vertical-align: top;\n",
       "    }\n",
       "\n",
       "    .dataframe thead th {\n",
       "        text-align: right;\n",
       "    }\n",
       "</style>\n",
       "<table border=\"1\" class=\"dataframe\">\n",
       "  <thead>\n",
       "    <tr style=\"text-align: right;\">\n",
       "      <th></th>\n",
       "      <th>t3</th>\n",
       "      <th>t10</th>\n",
       "      <th>t50</th>\n",
       "      <th>norm</th>\n",
       "    </tr>\n",
       "  </thead>\n",
       "  <tbody>\n",
       "    <tr>\n",
       "      <td>0.90</td>\n",
       "      <td>0.852438</td>\n",
       "      <td>0.868296</td>\n",
       "      <td>0.838482</td>\n",
       "      <td>0.855055</td>\n",
       "    </tr>\n",
       "    <tr>\n",
       "      <td>0.91</td>\n",
       "      <td>0.889326</td>\n",
       "      <td>0.894614</td>\n",
       "      <td>0.861721</td>\n",
       "      <td>0.879332</td>\n",
       "    </tr>\n",
       "    <tr>\n",
       "      <td>0.92</td>\n",
       "      <td>0.931323</td>\n",
       "      <td>0.924214</td>\n",
       "      <td>0.887077</td>\n",
       "      <td>0.905629</td>\n",
       "    </tr>\n",
       "    <tr>\n",
       "      <td>0.93</td>\n",
       "      <td>0.980218</td>\n",
       "      <td>0.957371</td>\n",
       "      <td>0.915379</td>\n",
       "      <td>0.934549</td>\n",
       "    </tr>\n",
       "    <tr>\n",
       "      <td>0.94</td>\n",
       "      <td>1.03843</td>\n",
       "      <td>0.995942</td>\n",
       "      <td>0.947671</td>\n",
       "      <td>0.966788</td>\n",
       "    </tr>\n",
       "    <tr>\n",
       "      <td>0.95</td>\n",
       "      <td>1.10939</td>\n",
       "      <td>1.04125</td>\n",
       "      <td>0.98537</td>\n",
       "      <td>1.00482</td>\n",
       "    </tr>\n",
       "    <tr>\n",
       "      <td>0.96</td>\n",
       "      <td>1.20185</td>\n",
       "      <td>1.0962</td>\n",
       "      <td>1.03093</td>\n",
       "      <td>1.05047</td>\n",
       "    </tr>\n",
       "    <tr>\n",
       "      <td>0.97</td>\n",
       "      <td>1.327</td>\n",
       "      <td>1.16581</td>\n",
       "      <td>1.08746</td>\n",
       "      <td>1.10781</td>\n",
       "    </tr>\n",
       "    <tr>\n",
       "      <td>0.98</td>\n",
       "      <td>1.51353</td>\n",
       "      <td>1.26147</td>\n",
       "      <td>1.16153</td>\n",
       "      <td>1.18979</td>\n",
       "    </tr>\n",
       "    <tr>\n",
       "      <td>0.99</td>\n",
       "      <td>1.86763</td>\n",
       "      <td>1.42488</td>\n",
       "      <td>1.27213</td>\n",
       "      <td>1.32402</td>\n",
       "    </tr>\n",
       "  </tbody>\n",
       "</table>\n",
       "</div>"
      ],
      "text/plain": [
       "            t3       t10       t50      norm\n",
       "0.90  0.852438  0.868296  0.838482  0.855055\n",
       "0.91  0.889326  0.894614  0.861721  0.879332\n",
       "0.92  0.931323  0.924214  0.887077  0.905629\n",
       "0.93  0.980218  0.957371  0.915379  0.934549\n",
       "0.94   1.03843  0.995942  0.947671  0.966788\n",
       "0.95   1.10939   1.04125   0.98537   1.00482\n",
       "0.96   1.20185    1.0962   1.03093   1.05047\n",
       "0.97     1.327   1.16581   1.08746   1.10781\n",
       "0.98   1.51353   1.26147   1.16153   1.18979\n",
       "0.99   1.86763   1.42488   1.27213   1.32402"
      ]
     },
     "execution_count": 34,
     "metadata": {},
     "output_type": "execute_result"
    }
   ],
   "source": [
    "df_VaR = pd.DataFrame(columns = col_names2,index = alpha)\n",
    "for i in range(len(alpha)):\n",
    "    for j in range(len(col_names2)):\n",
    "        #df_inter = df2[col_names2[j]].sort_values(ascending = False)[:int(round(N * (alpha[i])))]\n",
    "        #df_inter = df2.sort_values()[:int(round((N*(1-alpha[i]))))]\n",
    "        df_VaR.at[alpha[i],col_names2[j]] = df2[col_names2[j]].sort_values(ascending = False)[:int(round(N * (1 - alpha[i])))].mean()\n",
    "df_VaR"
   ]
  },
  {
   "cell_type": "code",
   "execution_count": 41,
   "metadata": {},
   "outputs": [
    {
     "data": {
      "text/plain": [
       "<matplotlib.legend.Legend at 0x121f37bd0>"
      ]
     },
     "execution_count": 41,
     "metadata": {},
     "output_type": "execute_result"
    },
    {
     "data": {
      "image/png": "[encoded data removed]",
      "text/plain": [
       "<Figure size 720x360 with 1 Axes>"
      ]
     },
     "metadata": {
      "needs_background": "light"
     },
     "output_type": "display_data"
    }
   ],
   "source": [
    "#Plot VaR\n",
    "plt.figure(figsize = (10,5))\n",
    "plt.plot(df2.quantile(alpha))\n",
    "plt.xlabel('Confidence level')\n",
    "plt.ylabel('Losses')\n",
    "plt.legend(df2.columns)"
   ]
  },
  {
   "cell_type": "code",
   "execution_count": 42,
   "metadata": {},
   "outputs": [
    {
     "data": {
      "text/plain": [
       "<matplotlib.legend.Legend at 0x122f5f610>"
      ]
     },
     "execution_count": 42,
     "metadata": {},
     "output_type": "execute_result"
    },
    {
     "data": {
      "image/png": "[encoded data removed]",
      "text/plain": [
       "<Figure size 720x360 with 1 Axes>"
      ]
     },
     "metadata": {
      "needs_background": "light"
     },
     "output_type": "display_data"
    }
   ],
   "source": [
    "#Plot VaR mean\n",
    "plt.figure(figsize = (10,5))\n",
    "plt.plot(df2.quantile(alpha) - df2.mean())\n",
    "plt.xlabel('Confidence level')\n",
    "plt.ylabel('Losses')\n",
    "plt.legend(df2.columns)"
   ]
  },
  {
   "cell_type": "code",
   "execution_count": 43,
   "metadata": {},
   "outputs": [
    {
     "data": {
      "text/plain": [
       "<matplotlib.legend.Legend at 0x121ebdcd0>"
      ]
     },
     "execution_count": 43,
     "metadata": {},
     "output_type": "execute_result"
    },
    {
     "data": {
      "image/png": "[encoded data removed]",
      "text/plain": [
       "<Figure size 720x360 with 1 Axes>"
      ]
     },
     "metadata": {
      "needs_background": "light"
     },
     "output_type": "display_data"
    }
   ],
   "source": [
    "#Plot ES\n",
    "plt.figure(figsize = (10,5))\n",
    "plt.plot(df_VaR)\n",
    "plt.xlabel('Confidence level')\n",
    "plt.ylabel('Losses')\n",
    "plt.legend(df_VaR)"
   ]
  },
  {
   "cell_type": "markdown",
   "metadata": {},
   "source": [
    "# Exercise 2"
   ]
  },
  {
   "cell_type": "code",
   "execution_count": 7,
   "metadata": {},
   "outputs": [],
   "source": [
    "#Set parameters\n",
    "T = 0.5\n",
    "r = 0.05\n",
    "sig = 0.2\n",
    "S = 100\n",
    "K = 100\n",
    "dt = 1/252\n",
    "q = 0"
   ]
  },
  {
   "cell_type": "code",
   "execution_count": 35,
   "metadata": {},
   "outputs": [],
   "source": [
    "alpha = np.array([0.95,0.99])\n",
    "cov = np.array([[10**-6, -0.5 * 10**-7],[-0.5 * 10**-7, 10**-8]])\n",
    "df = pd.DataFrame(np.random.multivariate_normal([0,0],cov,10**4),columns = ['X_1' , 'X_3'])"
   ]
  },
  {
   "cell_type": "code",
   "execution_count": 36,
   "metadata": {},
   "outputs": [],
   "source": [
    "def European_Call (S,K,T,q,r,sig):\n",
    "    d1 = (np.log(S/K) + (r - q + sig**2/2) * T)/(sig * np.sqrt(T))\n",
    "    d2 = d1 - sig * np.sqrt(T)\n",
    "    return S * np.exp(-q * T) * stats.norm.cdf(d1) - K * np.exp(-r * T) * stats.norm.cdf(d2)\n",
    "\n",
    "def Theta(S,K,q,r,sig,delta):\n",
    "    d1 = (np.log(S/K) + (r - q + sig**2 /2) * delta) / (sig * np.sqrt(delta))\n",
    "    d2 = d1 - sig * np.sqrt(delta)\n",
    "    return - np.exp(- q * delta) * S * stats.norm.pdf(d1) * sig / ( 2 * np.sqrt(delta)) - r * K * np.exp(- r * delta) * stats.norm.cdf(d2) + q * S * np.exp(-q * delta) * stats.norm.cdf(d1)\n",
    "\n",
    "def Delta(S,K,q,r,sig,delta):\n",
    "    d1 = (np.log(S/K) + (r - q + sig**2 /2) * delta) / (sig * np.sqrt(delta))\n",
    "    return np.exp(-q*delta) * stats.norm.cdf(d1)\n",
    "\n",
    "def Vega(S,K,q,r,sig,delta):\n",
    "    d1 = (np.log(S/K) + (r - q + sig**2 /2) * delta) / (sig * np.sqrt(delta))\n",
    "    return S * np.exp(-q * delta) * stats.norm.pdf(d1) * np.sqrt(delta)\n",
    "\n",
    "\n"
   ]
  },
  {
   "cell_type": "code",
   "execution_count": 37,
   "metadata": {},
   "outputs": [],
   "source": [
    "C0 = European_Call(S,K,T,q,r,sig)\n",
    "df_real = pd.DataFrame(columns = ['Price' , 'Sig'])\n",
    "df_real.Price = S * np.exp(df.X_1)\n",
    "df_real.Sig = sig + df.X_3"
   ]
  },
  {
   "cell_type": "code",
   "execution_count": 38,
   "metadata": {},
   "outputs": [],
   "source": [
    "Val = pd.DataFrame(columns = ['Monte_Carlo' , 'Lin_Loss'])"
   ]
  },
  {
   "cell_type": "code",
   "execution_count": 39,
   "metadata": {},
   "outputs": [],
   "source": [
    "Val.Monte_Carlo = C0 - European_Call(df_real.Price, K , T , q , r , df_real.Sig) - S + df_real.Price"
   ]
  },
  {
   "cell_type": "code",
   "execution_count": 40,
   "metadata": {},
   "outputs": [],
   "source": [
    "Val.Lin_Loss = - (Theta(S,K,q,r,sig,T) * dt + df.X_1 * S *(1 + Delta(S,K,q,r,sig,T)) + df.X_3 * Vega(S,K,q,r,sig,T))"
   ]
  },
  {
   "cell_type": "code",
   "execution_count": 42,
   "metadata": {},
   "outputs": [],
   "source": [
    "VaR = pd.DataFrame(index = ['Monte_Carlo' , 'Lin_Loss' , 'VarCovar'],columns = ['VaR_0.05','VaR_mean_0.05','ES_0.05','VaR_0.01','VaR_mean_0.01','ES_0.01'])"
   ]
  },
  {
   "cell_type": "code",
   "execution_count": 56,
   "metadata": {},
   "outputs": [],
   "source": [
    "VaR.loc['Monte_Carlo'][0] = Val.Monte_Carlo.quantile(1 - alpha[0])\n",
    "VaR.loc['Monte_Carlo'][1] = VaR.loc['Monte_Carlo'][0] - Val.Monte_Carlo.mean()\n",
    "VaR.loc['Monte_Carlo'][2] = Val.Monte_Carlo.sort_values()[:int(round(N * (1 - alpha[0])))].mean()\n",
    "VaR.loc['Monte_Carlo'][3] = Val.Monte_Carlo.quantile(1 - alpha[1])\n",
    "VaR.loc['Monte_Carlo'][4] = VaR.loc['Monte_Carlo'][3] - Val.Monte_Carlo.mean()\n",
    "VaR.loc['Monte_Carlo'][5] = Val.Monte_Carlo.sort_values()[:int(round(N * (1 - alpha[1])))].mean()"
   ]
  },
  {
   "cell_type": "code",
   "execution_count": 58,
   "metadata": {},
   "outputs": [],
   "source": [
    "VaR.loc['Lin_Loss'][0] = Val.Lin_Loss.quantile(1 - alpha[0])\n",
    "VaR.loc['Lin_Loss'][1] = VaR.loc['Lin_Loss'][0] - Val.Lin_Loss.mean()\n",
    "VaR.loc['Lin_Loss'][2] = Val.Lin_Loss.sort_values()[:int(round(N * (1 - alpha[0])))].mean()\n",
    "VaR.loc['Lin_Loss'][3] = Val.Lin_Loss.quantile(1 - alpha[1])\n",
    "VaR.loc['Lin_Loss'][4] = VaR.loc['Lin_Loss'][3] - Val.Lin_Loss.mean()\n",
    "VaR.loc['Lin_Loss'][5] = Val.Lin_Loss.sort_values()[:int(round(N * (1 - alpha[1])))].mean()"
   ]
  },
  {
   "cell_type": "code",
   "execution_count": 152,
   "metadata": {},
   "outputs": [],
   "source": [
    "B = np.array([ (Delta(S,K,q,r,sig,T) + 1) * S , Vega(S,K,q,r,sig,T)])\n",
    "VaR.loc['VarCovar'][0] = - Theta(S,K,q,r,sig,T) * dt + np.sqrt(np.matmul(B.transpose(),np.matmul(B,cov))) * stats.norm.ppf(1 - alpha[0])\n",
    "VaR.loc['VarCovar'][1] = VaR.loc['VarCovar'][0]\n",
    "VaR.loc['VarCovar'][2] = - Theta(S,K,q,r,sig,T) * dt + np.sqrt(np.matmul(B.transpose(),np.matmul(B,cov))) * stats.norm.pdf(stats.norm.ppf(1 - alpha[0]))/alpha[0]\n",
    "VaR.loc['VarCovar'][3] = - Theta(S,K,q,r,sig,T) * dt + np.sqrt(np.matmul(B.transpose(),np.matmul(B,cov))) * stats.norm.ppf(1 - alpha[1])\n",
    "VaR.loc['VarCovar'][4] = VaR.loc['VarCovar'][3]\n",
    "VaR.loc['VarCovar'][5] = - Theta(S,K,q,r,sig,T) * dt + np.sqrt(np.matmul(B.transpose(),np.matmul(B,cov))) * stats.norm.pdf(stats.norm.ppf(1 - alpha[1]))/alpha[1]"
   ]
  },
  {
   "cell_type": "code",
   "execution_count": 153,
   "metadata": {},
   "outputs": [
    {
     "data": {
      "text/html": [
       "<div>\n",
       "<style scoped>\n",
       "    .dataframe tbody tr th:only-of-type {\n",
       "        vertical-align: middle;\n",
       "    }\n",
       "\n",
       "    .dataframe tbody tr th {\n",
       "        vertical-align: top;\n",
       "    }\n",
       "\n",
       "    .dataframe thead th {\n",
       "        text-align: right;\n",
       "    }\n",
       "</style>\n",
       "<table border=\"1\" class=\"dataframe\">\n",
       "  <thead>\n",
       "    <tr style=\"text-align: right;\">\n",
       "      <th></th>\n",
       "      <th>VaR_0.05</th>\n",
       "      <th>VaR_mean_0.05</th>\n",
       "      <th>ES_0.05</th>\n",
       "      <th>VaR_0.01</th>\n",
       "      <th>VaR_mean_0.01</th>\n",
       "      <th>ES_0.01</th>\n",
       "    </tr>\n",
       "  </thead>\n",
       "  <tbody>\n",
       "    <tr>\n",
       "      <td>Monte_Carlo</td>\n",
       "      <td>-0.0676923</td>\n",
       "      <td>-0.0676655</td>\n",
       "      <td>-0.0854525</td>\n",
       "      <td>-0.0962278</td>\n",
       "      <td>-0.096201</td>\n",
       "      <td>-0.110306</td>\n",
       "    </tr>\n",
       "    <tr>\n",
       "      <td>Lin_Loss</td>\n",
       "      <td>-0.230745</td>\n",
       "      <td>-0.262787</td>\n",
       "      <td>-0.297985</td>\n",
       "      <td>-0.338092</td>\n",
       "      <td>-0.370135</td>\n",
       "      <td>-0.389182</td>\n",
       "    </tr>\n",
       "    <tr>\n",
       "      <td>VarCovar</td>\n",
       "      <td>-0.228377</td>\n",
       "      <td>-0.228377</td>\n",
       "      <td>0.0494053</td>\n",
       "      <td>-0.336341</td>\n",
       "      <td>-0.336341</td>\n",
       "      <td>0.0364712</td>\n",
       "    </tr>\n",
       "  </tbody>\n",
       "</table>\n",
       "</div>"
      ],
      "text/plain": [
       "              VaR_0.05 VaR_mean_0.05    ES_0.05   VaR_0.01 VaR_mean_0.01  \\\n",
       "Monte_Carlo -0.0676923    -0.0676655 -0.0854525 -0.0962278     -0.096201   \n",
       "Lin_Loss     -0.230745     -0.262787  -0.297985  -0.338092     -0.370135   \n",
       "VarCovar     -0.228377     -0.228377  0.0494053  -0.336341     -0.336341   \n",
       "\n",
       "               ES_0.01  \n",
       "Monte_Carlo  -0.110306  \n",
       "Lin_Loss     -0.389182  \n",
       "VarCovar     0.0364712  "
      ]
     },
     "execution_count": 153,
     "metadata": {},
     "output_type": "execute_result"
    }
   ],
   "source": [
    "VaR"
   ]
  }
 ],
 "metadata": {
  "kernelspec": {
   "display_name": "Python 3",
   "language": "python",
   "name": "python3"
  },
  "language_info": {
   "codemirror_mode": {
    "name": "ipython",
    "version": 3
   },
   "file_extension": ".py",
   "mimetype": "text/x-python",
   "name": "python",
   "nbconvert_exporter": "python",
   "pygments_lexer": "ipython3",
   "version": "3.7.4"
  }
 },
 "nbformat": 4,
 "nbformat_minor": 2
}
