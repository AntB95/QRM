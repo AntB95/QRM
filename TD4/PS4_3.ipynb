{
 "cells": [
  {
   "cell_type": "code",
   "execution_count": 1,
   "metadata": {},
   "outputs": [],
   "source": [
    "import numpy as np\n",
    "import pandas as pd\n",
    "import matplotlib.pyplot as plt\n",
    "import scipy.stats as stats\n",
    "import wrds\n",
    "import datetime\n",
    "import statsmodels.api as sm"
   ]
  },
  {
   "cell_type": "code",
   "execution_count": 2,
   "metadata": {},
   "outputs": [
    {
     "name": "stdout",
     "output_type": "stream",
     "text": [
      "Enter your WRDS username [max]:antb95\n",
      "Enter your password:········\n",
      "WRDS recommends setting up a .pgpass file.\n",
      "You can find more info here:\n",
      "https://www.postgresql.org/docs/9.5/static/libpq-pgpass.html.\n",
      "Loading library list...\n",
      "Done\n"
     ]
    }
   ],
   "source": [
    "db = wrds.Connection() \n",
    "#goqhuB-1hafqe-dojvix"
   ]
  },
  {
   "cell_type": "code",
   "execution_count": 6,
   "metadata": {},
   "outputs": [],
   "source": [
    "sp = db.get_table(library = 'crsp' , table = 'dsp500p')\n",
    "start = np.where(sp.caldt >= datetime.date(2011,3,17))[0][0]\n",
    "end = np.where(sp.caldt >= datetime.date(2016,3,17))[0][0]\n",
    "sp = sp.loc[start:end,['caldt','spindx']]"
   ]
  },
  {
   "cell_type": "code",
   "execution_count": 8,
   "metadata": {},
   "outputs": [],
   "source": [
    "names = db.get_table(library='crsp', table='stocknames')\n",
    "names =names.loc[:,['permco' , 'ticker']]"
   ]
  },
  {
   "cell_type": "code",
   "execution_count": 9,
   "metadata": {},
   "outputs": [],
   "source": [
    "Ticker = ['IBM','MCD','MMM','WMT']\n",
    "Permco = np.zeros(len(Ticker))\n",
    "for i in range(len(Ticker)):\n",
    "    inter = names['permco'].where(names['ticker'] == Ticker[i])\n",
    "    inter.dropna(inplace = True)\n",
    "    Permco[i] = inter.iloc[1]"
   ]
  },
  {
   "cell_type": "code",
   "execution_count": 10,
   "metadata": {},
   "outputs": [],
   "source": [
    "df = pd.DataFrame(index = np.arange(0,len(sp)),columns = ['Date' , 'SPX'] + Ticker)"
   ]
  },
  {
   "cell_type": "code",
   "execution_count": 11,
   "metadata": {},
   "outputs": [],
   "source": [
    "df.Date = np.array(sp.caldt)\n",
    "df.SPX = np.array(sp.spindx)\n",
    "for i in range(len(Ticker)):\n",
    "    inter = db.raw_sql(\"select prc, date from crsp.dsf where permco in (\"+str(Permco[i])+\") and date >='2011-03-17' and date <='2016-03-17'\")\n",
    "    df[Ticker[i]] = inter.prc"
   ]
  },
  {
   "cell_type": "code",
   "execution_count": 12,
   "metadata": {},
   "outputs": [],
   "source": [
    "df.loc[:,df.columns != 'Date'] = np.log(df.loc[:,df.columns != 'Date']) - np.log(df.loc[:,df.columns != 'Date']).shift(1)\n",
    "df.dropna(inplace = True)"
   ]
  },
  {
   "cell_type": "code",
   "execution_count": 13,
   "metadata": {
    "scrolled": true
   },
   "outputs": [
    {
     "data": {
      "text/html": [
       "<div>\n",
       "<style scoped>\n",
       "    .dataframe tbody tr th:only-of-type {\n",
       "        vertical-align: middle;\n",
       "    }\n",
       "\n",
       "    .dataframe tbody tr th {\n",
       "        vertical-align: top;\n",
       "    }\n",
       "\n",
       "    .dataframe thead th {\n",
       "        text-align: right;\n",
       "    }\n",
       "</style>\n",
       "<table border=\"1\" class=\"dataframe\">\n",
       "  <thead>\n",
       "    <tr style=\"text-align: right;\">\n",
       "      <th></th>\n",
       "      <th>IBM</th>\n",
       "      <th>MCD</th>\n",
       "      <th>MMM</th>\n",
       "      <th>WMT</th>\n",
       "    </tr>\n",
       "  </thead>\n",
       "  <tbody>\n",
       "    <tr>\n",
       "      <td>a</td>\n",
       "      <td>-0.000342</td>\n",
       "      <td>0.000193</td>\n",
       "      <td>0.000121</td>\n",
       "      <td>0.000021</td>\n",
       "    </tr>\n",
       "    <tr>\n",
       "      <td>Beta</td>\n",
       "      <td>0.812870</td>\n",
       "      <td>0.583189</td>\n",
       "      <td>0.977735</td>\n",
       "      <td>0.522278</td>\n",
       "    </tr>\n",
       "  </tbody>\n",
       "</table>\n",
       "</div>"
      ],
      "text/plain": [
       "           IBM       MCD       MMM       WMT\n",
       "a    -0.000342  0.000193  0.000121  0.000021\n",
       "Beta  0.812870  0.583189  0.977735  0.522278"
      ]
     },
     "execution_count": 13,
     "metadata": {},
     "output_type": "execute_result"
    }
   ],
   "source": [
    "X = pd.DataFrame({'Ones' : [1] * len(df), 'SPX' : np.array(df.SPX)},index = np.arange(1,len(df)+1,1))\n",
    "Beta = pd.DataFrame(columns = Ticker,index = ['a' , 'Beta'])\n",
    "Eps = pd.DataFrame(columns = Ticker, index = df.index)\n",
    "for i in range(len(Ticker)):\n",
    "    Y = df[Ticker[i]]\n",
    "    model = sm.OLS(Y,X).fit()\n",
    "    Beta.at[:,Ticker[i]] = model.params.to_list()\n",
    "    Eps.at[:,Ticker[i]] = Y - np.matmul(np.array(X),np.array(Beta[Ticker[i]]))\n",
    "Beta"
   ]
  },
  {
   "cell_type": "code",
   "execution_count": 14,
   "metadata": {},
   "outputs": [
    {
     "data": {
      "text/html": [
       "<div>\n",
       "<style scoped>\n",
       "    .dataframe tbody tr th:only-of-type {\n",
       "        vertical-align: middle;\n",
       "    }\n",
       "\n",
       "    .dataframe tbody tr th {\n",
       "        vertical-align: top;\n",
       "    }\n",
       "\n",
       "    .dataframe thead th {\n",
       "        text-align: right;\n",
       "    }\n",
       "</style>\n",
       "<table border=\"1\" class=\"dataframe\">\n",
       "  <thead>\n",
       "    <tr style=\"text-align: right;\">\n",
       "      <th></th>\n",
       "      <th>IBM</th>\n",
       "      <th>MCD</th>\n",
       "      <th>MMM</th>\n",
       "      <th>WMT</th>\n",
       "    </tr>\n",
       "  </thead>\n",
       "  <tbody>\n",
       "    <tr>\n",
       "      <td>IBM</td>\n",
       "      <td>1.000000</td>\n",
       "      <td>0.062738</td>\n",
       "      <td>0.001554</td>\n",
       "      <td>-0.003596</td>\n",
       "    </tr>\n",
       "    <tr>\n",
       "      <td>MCD</td>\n",
       "      <td>0.062738</td>\n",
       "      <td>1.000000</td>\n",
       "      <td>0.023428</td>\n",
       "      <td>0.121860</td>\n",
       "    </tr>\n",
       "    <tr>\n",
       "      <td>MMM</td>\n",
       "      <td>0.001554</td>\n",
       "      <td>0.023428</td>\n",
       "      <td>1.000000</td>\n",
       "      <td>0.029651</td>\n",
       "    </tr>\n",
       "    <tr>\n",
       "      <td>WMT</td>\n",
       "      <td>-0.003596</td>\n",
       "      <td>0.121860</td>\n",
       "      <td>0.029651</td>\n",
       "      <td>1.000000</td>\n",
       "    </tr>\n",
       "  </tbody>\n",
       "</table>\n",
       "</div>"
      ],
      "text/plain": [
       "          IBM       MCD       MMM       WMT\n",
       "IBM  1.000000  0.062738  0.001554 -0.003596\n",
       "MCD  0.062738  1.000000  0.023428  0.121860\n",
       "MMM  0.001554  0.023428  1.000000  0.029651\n",
       "WMT -0.003596  0.121860  0.029651  1.000000"
      ]
     },
     "execution_count": 14,
     "metadata": {},
     "output_type": "execute_result"
    }
   ],
   "source": [
    "Eps.corr()"
   ]
  },
  {
   "cell_type": "code",
   "execution_count": 15,
   "metadata": {},
   "outputs": [
    {
     "data": {
      "text/html": [
       "<div>\n",
       "<style scoped>\n",
       "    .dataframe tbody tr th:only-of-type {\n",
       "        vertical-align: middle;\n",
       "    }\n",
       "\n",
       "    .dataframe tbody tr th {\n",
       "        vertical-align: top;\n",
       "    }\n",
       "\n",
       "    .dataframe thead th {\n",
       "        text-align: right;\n",
       "    }\n",
       "</style>\n",
       "<table border=\"1\" class=\"dataframe\">\n",
       "  <thead>\n",
       "    <tr style=\"text-align: right;\">\n",
       "      <th></th>\n",
       "      <th>IBM</th>\n",
       "      <th>MCD</th>\n",
       "      <th>MMM</th>\n",
       "      <th>WMT</th>\n",
       "    </tr>\n",
       "  </thead>\n",
       "  <tbody>\n",
       "    <tr>\n",
       "      <td>IBM</td>\n",
       "      <td>1.000000</td>\n",
       "      <td>0.425738</td>\n",
       "      <td>0.528305</td>\n",
       "      <td>0.319660</td>\n",
       "    </tr>\n",
       "    <tr>\n",
       "      <td>MCD</td>\n",
       "      <td>0.425738</td>\n",
       "      <td>1.000000</td>\n",
       "      <td>0.497643</td>\n",
       "      <td>0.381854</td>\n",
       "    </tr>\n",
       "    <tr>\n",
       "      <td>MMM</td>\n",
       "      <td>0.528305</td>\n",
       "      <td>0.497643</td>\n",
       "      <td>1.000000</td>\n",
       "      <td>0.419516</td>\n",
       "    </tr>\n",
       "    <tr>\n",
       "      <td>WMT</td>\n",
       "      <td>0.319660</td>\n",
       "      <td>0.381854</td>\n",
       "      <td>0.419516</td>\n",
       "      <td>1.000000</td>\n",
       "    </tr>\n",
       "  </tbody>\n",
       "</table>\n",
       "</div>"
      ],
      "text/plain": [
       "          IBM       MCD       MMM       WMT\n",
       "IBM  1.000000  0.425738  0.528305  0.319660\n",
       "MCD  0.425738  1.000000  0.497643  0.381854\n",
       "MMM  0.528305  0.497643  1.000000  0.419516\n",
       "WMT  0.319660  0.381854  0.419516  1.000000"
      ]
     },
     "execution_count": 15,
     "metadata": {},
     "output_type": "execute_result"
    }
   ],
   "source": [
    "df[Ticker].corr()"
   ]
  },
  {
   "cell_type": "code",
   "execution_count": null,
   "metadata": {},
   "outputs": [],
   "source": []
  },
  {
   "cell_type": "code",
   "execution_count": null,
   "metadata": {},
   "outputs": [],
   "source": []
  }
 ],
 "metadata": {
  "kernelspec": {
   "display_name": "Python 3",
   "language": "python",
   "name": "python3"
  },
  "language_info": {
   "codemirror_mode": {
    "name": "ipython",
    "version": 3
   },
   "file_extension": ".py",
   "mimetype": "text/x-python",
   "name": "python",
   "nbconvert_exporter": "python",
   "pygments_lexer": "ipython3",
   "version": "3.7.4"
  }
 },
 "nbformat": 4,
 "nbformat_minor": 2
}
