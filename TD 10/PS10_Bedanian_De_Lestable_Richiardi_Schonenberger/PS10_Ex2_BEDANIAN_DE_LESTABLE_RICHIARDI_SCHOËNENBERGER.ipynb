{
 "cells": [
  {
   "cell_type": "code",
   "execution_count": 51,
   "metadata": {},
   "outputs": [],
   "source": [
    "import numpy as np\n",
    "import pandas as pd\n",
    "import matplotlib.pyplot as plt\n",
    "import scipy.stats as stats"
   ]
  },
  {
   "cell_type": "code",
   "execution_count": 52,
   "metadata": {},
   "outputs": [],
   "source": [
    "alpha = 0.99\n",
    "S     = 1000"
   ]
  },
  {
   "cell_type": "markdown",
   "metadata": {},
   "source": [
    "# 1) Standard Monte Carlo"
   ]
  },
  {
   "cell_type": "code",
   "execution_count": 53,
   "metadata": {},
   "outputs": [],
   "source": [
    "def density(x):\n",
    "    return 2/(np.exp(x)+np.exp(-x))**2\n",
    "\n",
    "def invert_F_L(x):\n",
    "    return np.arctanh(2*x-1)"
   ]
  },
  {
   "cell_type": "code",
   "execution_count": 54,
   "metadata": {},
   "outputs": [],
   "source": [
    "VaR = invert_F_L(alpha)\n",
    "ES = []\n",
    "for i in range(S):\n",
    "    Uni    = np.random.uniform(0,1,S) \n",
    "    L      = invert_F_L(Uni)\n",
    "    L      = [k for k in L if k >= VaR]\n",
    "    ES_val = np.mean(L)\n",
    "    ES     = ES + [ES_val]"
   ]
  },
  {
   "cell_type": "code",
   "execution_count": 55,
   "metadata": {},
   "outputs": [
    {
     "data": {
      "image/png": "[encoded data removed]",
      "text/plain": [
       "<Figure size 432x288 with 1 Axes>"
      ]
     },
     "metadata": {
      "needs_background": "light"
     },
     "output_type": "display_data"
    }
   ],
   "source": [
    "plt.hist(ES, bins=30, normed=1)\n",
    "plt.xlabel('ES_0.99')\n",
    "plt.ylabel('Count')\n",
    "plt.yscale('linear')\n",
    "plt.title(\"Distribution of Expected Shortfall 0.99\")\n",
    "plt.grid(True)\n",
    "plt.show()"
   ]
  },
  {
   "cell_type": "code",
   "execution_count": 56,
   "metadata": {},
   "outputs": [
    {
     "data": {
      "text/plain": [
       "2.8050486718843222"
      ]
     },
     "execution_count": 56,
     "metadata": {},
     "output_type": "execute_result"
    }
   ],
   "source": [
    "np.mean(ES)"
   ]
  },
  {
   "cell_type": "code",
   "execution_count": 57,
   "metadata": {},
   "outputs": [
    {
     "data": {
      "text/plain": [
       "0.16726560251179376"
      ]
     },
     "execution_count": 57,
     "metadata": {},
     "output_type": "execute_result"
    }
   ],
   "source": [
    "np.std(ES)"
   ]
  },
  {
   "cell_type": "markdown",
   "metadata": {},
   "source": [
    "# 2) Monte Carlo with importance sampling"
   ]
  },
  {
   "cell_type": "code",
   "execution_count": 58,
   "metadata": {},
   "outputs": [],
   "source": [
    "def G_L(x,alpha):\n",
    "    VaR = invert_F_L(alpha)\n",
    "    return np.exp(-(x-VaR))\n",
    "\n",
    "def invert_G_L(x,alpha):\n",
    "    VaR = invert_F_L(alpha)\n",
    "    return VaR - np.log(1-x)"
   ]
  },
  {
   "cell_type": "code",
   "execution_count": 59,
   "metadata": {},
   "outputs": [],
   "source": [
    "ES_IS = []\n",
    "for i in range(S):\n",
    "    Uni      = np.random.uniform(0,1,S) \n",
    "    G_invert = invert_G_L(Uni,alpha)\n",
    "    r_L      = density(G_invert)/G_L(G_invert,alpha)\n",
    "    ES_value = np.mean(G_invert*r_L)/(1-alpha)\n",
    "    ES_IS    = ES_IS + [ES_value]"
   ]
  },
  {
   "cell_type": "code",
   "execution_count": 60,
   "metadata": {},
   "outputs": [
    {
     "data": {
      "image/png": "[encoded data removed]",
      "text/plain": [
       "<Figure size 432x288 with 1 Axes>"
      ]
     },
     "metadata": {
      "needs_background": "light"
     },
     "output_type": "display_data"
    }
   ],
   "source": [
    "plt.hist(ES_IS, bins=30, normed=1)\n",
    "plt.xlabel('ES_0.99')\n",
    "plt.ylabel('Count')\n",
    "plt.yscale('linear')\n",
    "plt.title(\"Distribution of Expected Shortfall 0.99\")\n",
    "plt.grid(True)\n",
    "plt.show()"
   ]
  },
  {
   "cell_type": "code",
   "execution_count": 61,
   "metadata": {},
   "outputs": [
    {
     "data": {
      "text/plain": [
       "2.8007628192210028"
      ]
     },
     "execution_count": 61,
     "metadata": {},
     "output_type": "execute_result"
    }
   ],
   "source": [
    "np.mean(ES_IS)"
   ]
  },
  {
   "cell_type": "code",
   "execution_count": 62,
   "metadata": {},
   "outputs": [
    {
     "data": {
      "text/plain": [
       "0.038197269876445311"
      ]
     },
     "execution_count": 62,
     "metadata": {},
     "output_type": "execute_result"
    }
   ],
   "source": [
    "np.std(ES_IS)"
   ]
  }
 ],
 "metadata": {
  "kernelspec": {
   "display_name": "Python 3",
   "language": "python",
   "name": "python3"
  },
  "language_info": {
   "codemirror_mode": {
    "name": "ipython",
    "version": 3
   },
   "file_extension": ".py",
   "mimetype": "text/x-python",
   "name": "python",
   "nbconvert_exporter": "python",
   "pygments_lexer": "ipython3",
   "version": "3.6.8"
  }
 },
 "nbformat": 4,
 "nbformat_minor": 2
}
